{
 "cells": [
  {
   "cell_type": "code",
   "execution_count": 1,
   "id": "681b714c",
   "metadata": {},
   "outputs": [],
   "source": [
    "import random"
   ]
  },
  {
   "cell_type": "code",
   "execution_count": 4,
   "id": "c7e1e6f7",
   "metadata": {},
   "outputs": [
    {
     "name": "stdout",
     "output_type": "stream",
     "text": [
      "1등 번호 : 14 7 26 19 18 41 \n",
      "보너스 번호 : 15"
     ]
    }
   ],
   "source": [
    "lotto = [i for i in range(1,46)]\n",
    "\n",
    "for i in range(10000):\n",
    "    r = random.randrange(1,45)\n",
    "    temp = lotto[0]\n",
    "    lotto[0] = lotto[r]\n",
    "    lotto[r] = temp\n",
    "    \n",
    "print('1등 번호 : ', end='')\n",
    "for i in range(6):\n",
    "    print(\"{} \".format(lotto[i]), end='')\n",
    "print()\n",
    "print('보너스 번호 : {}'.format(lotto[6]), end ='')"
   ]
  },
  {
   "cell_type": "code",
   "execution_count": 12,
   "id": "217f5242",
   "metadata": {},
   "outputs": [],
   "source": [
    "def lotto():\n",
    "    lotto = [i for i in range(1,46)]\n",
    "\n",
    "    for i in range(10000):\n",
    "        r = random.randrange(1,45)\n",
    "        temp = lotto[0]\n",
    "        lotto[0] = lotto[r]\n",
    "        lotto[r] = temp\n",
    "    print('1등 번호 : ', end='')\n",
    "    for i in range(6):\n",
    "        print(\"{} \".format(lotto[i]), end='')\n",
    "    print()\n",
    "    print('보너스 번호 : {}'.format(lotto[6]), end ='')\n"
   ]
  },
  {
   "cell_type": "code",
   "execution_count": 13,
   "id": "3fae7086",
   "metadata": {},
   "outputs": [
    {
     "name": "stdout",
     "output_type": "stream",
     "text": [
      "1등 번호 : 11 10 38 20 17 45 \n",
      "보너스 번호 : 7None\n"
     ]
    }
   ],
   "source": [
    "a = lotto()\n",
    "print(a)"
   ]
  }
 ],
 "metadata": {
  "kernelspec": {
   "display_name": "Python 3",
   "language": "python",
   "name": "python3"
  },
  "language_info": {
   "codemirror_mode": {
    "name": "ipython",
    "version": 3
   },
   "file_extension": ".py",
   "mimetype": "text/x-python",
   "name": "python",
   "nbconvert_exporter": "python",
   "pygments_lexer": "ipython3",
   "version": "3.6.8"
  }
 },
 "nbformat": 4,
 "nbformat_minor": 5
}

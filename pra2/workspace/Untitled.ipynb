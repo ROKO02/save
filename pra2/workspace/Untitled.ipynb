{
 "cells": [
  {
   "cell_type": "code",
   "execution_count": 1,
   "id": "ab62ed57",
   "metadata": {},
   "outputs": [],
   "source": [
    "import warnings\n",
    "warnings.filterwarnings('ignore')\n",
    "import numpy as np\n",
    "import pandas as pd\n",
    "import matplotlib.pyplot as plt\n",
    "plt.rcParams['font.family'] = 'NanumGothic'\n",
    "plt.rcParams['font.size'] = 15\n",
    "import matplotlib as mpl\n",
    "mpl.rcParams['axes.unicode_minus'] =False\n",
    "import seaborn as sns\n",
    "from plotnine import *\n",
    "import missingno as msno\n",
    "from wordcloud import WordCloud"
   ]
  },
  {
   "cell_type": "markdown",
   "id": "d529f61f",
   "metadata": {},
   "source": [
    "국군간호사관학교 졸업인원 => https://www.data.go.kr/data/15088825/fileData.do"
   ]
  },
  {
   "cell_type": "code",
   "execution_count": 2,
   "id": "22c37fdb",
   "metadata": {},
   "outputs": [
    {
     "data": {
      "text/html": [
       "<div>\n",
       "<style scoped>\n",
       "    .dataframe tbody tr th:only-of-type {\n",
       "        vertical-align: middle;\n",
       "    }\n",
       "\n",
       "    .dataframe tbody tr th {\n",
       "        vertical-align: top;\n",
       "    }\n",
       "\n",
       "    .dataframe thead th {\n",
       "        text-align: right;\n",
       "    }\n",
       "</style>\n",
       "<table border=\"1\" class=\"dataframe\">\n",
       "  <thead>\n",
       "    <tr style=\"text-align: right;\">\n",
       "      <th></th>\n",
       "      <th>연도</th>\n",
       "      <th>전공계열</th>\n",
       "      <th>졸업인원(명)</th>\n",
       "    </tr>\n",
       "  </thead>\n",
       "  <tbody>\n",
       "    <tr>\n",
       "      <th>0</th>\n",
       "      <td>2017</td>\n",
       "      <td>간호학과</td>\n",
       "      <td>78</td>\n",
       "    </tr>\n",
       "    <tr>\n",
       "      <th>1</th>\n",
       "      <td>2018</td>\n",
       "      <td>간호학과</td>\n",
       "      <td>78</td>\n",
       "    </tr>\n",
       "    <tr>\n",
       "      <th>2</th>\n",
       "      <td>2019</td>\n",
       "      <td>간호학과</td>\n",
       "      <td>84</td>\n",
       "    </tr>\n",
       "    <tr>\n",
       "      <th>3</th>\n",
       "      <td>2020</td>\n",
       "      <td>간호학과</td>\n",
       "      <td>75</td>\n",
       "    </tr>\n",
       "    <tr>\n",
       "      <th>4</th>\n",
       "      <td>2021</td>\n",
       "      <td>간호학과</td>\n",
       "      <td>80</td>\n",
       "    </tr>\n",
       "  </tbody>\n",
       "</table>\n",
       "</div>"
      ],
      "text/plain": [
       "     연도  전공계열  졸업인원(명)\n",
       "0  2017  간호학과       78\n",
       "1  2018  간호학과       78\n",
       "2  2019  간호학과       84\n",
       "3  2020  간호학과       75\n",
       "4  2021  간호학과       80"
      ]
     },
     "execution_count": 2,
     "metadata": {},
     "output_type": "execute_result"
    }
   ],
   "source": [
    "df1 = pd.read_csv('./data/국방부_국군간호사관학교 졸업통계_20210916.csv', encoding='euc-kr')\n",
    "df1"
   ]
  },
  {
   "cell_type": "code",
   "execution_count": 3,
   "id": "c2d560a8",
   "metadata": {},
   "outputs": [],
   "source": [
    "df_year = df1['연도']\n",
    "df_people = df1['졸업인원(명)']"
   ]
  },
  {
   "cell_type": "code",
   "execution_count": 4,
   "id": "4d81edc3",
   "metadata": {},
   "outputs": [
    {
     "data": {
      "image/png": "[encoded data removed]",
      "text/plain": [
       "<Figure size 432x288 with 1 Axes>"
      ]
     },
     "metadata": {
      "needs_background": "light"
     },
     "output_type": "display_data"
    }
   ],
   "source": [
    "plt.plot(df_year, df_people)\n",
    "plt.title('2017 ~ 2021 국군간호사관학교  졸업 인원')\n",
    "plt.xlabel('연도(년)')\n",
    "plt.ylabel('졸업인원(명)')\n",
    "plt.show()"
   ]
  },
  {
   "cell_type": "markdown",
   "id": "fd54ce2b",
   "metadata": {},
   "source": [
    "국방부 사망사고 통계 => https://www.data.go.kr/data/15038397/fileData.do"
   ]
  },
  {
   "cell_type": "code",
   "execution_count": 5,
   "id": "1066c612",
   "metadata": {},
   "outputs": [
    {
     "data": {
      "text/html": [
       "<div>\n",
       "<style scoped>\n",
       "    .dataframe tbody tr th:only-of-type {\n",
       "        vertical-align: middle;\n",
       "    }\n",
       "\n",
       "    .dataframe tbody tr th {\n",
       "        vertical-align: top;\n",
       "    }\n",
       "\n",
       "    .dataframe thead th {\n",
       "        text-align: right;\n",
       "    }\n",
       "</style>\n",
       "<table border=\"1\" class=\"dataframe\">\n",
       "  <thead>\n",
       "    <tr style=\"text-align: right;\">\n",
       "      <th></th>\n",
       "      <th>순번</th>\n",
       "      <th>년도</th>\n",
       "      <th>군기사고(자살)</th>\n",
       "      <th>군기사고(총기)</th>\n",
       "      <th>군기사고(폭행)</th>\n",
       "      <th>군기사고(기타)</th>\n",
       "      <th>안전사고(차량)</th>\n",
       "      <th>안전사고(함정항공)</th>\n",
       "      <th>안전사고(폭발)</th>\n",
       "      <th>안전사고(추락충격)</th>\n",
       "      <th>안전사고(익사)</th>\n",
       "      <th>안전사고(화재)</th>\n",
       "      <th>안전사고(기타)</th>\n",
       "      <th>군자살률(10만명당)</th>\n",
       "      <th>민간자살률(10만명당)</th>\n",
       "    </tr>\n",
       "  </thead>\n",
       "  <tbody>\n",
       "    <tr>\n",
       "      <th>0</th>\n",
       "      <td>1</td>\n",
       "      <td>2009</td>\n",
       "      <td>81</td>\n",
       "      <td>0</td>\n",
       "      <td>0</td>\n",
       "      <td>0</td>\n",
       "      <td>13</td>\n",
       "      <td>0</td>\n",
       "      <td>0</td>\n",
       "      <td>8</td>\n",
       "      <td>7</td>\n",
       "      <td>0</td>\n",
       "      <td>4</td>\n",
       "      <td>12.40</td>\n",
       "      <td>31.0</td>\n",
       "    </tr>\n",
       "    <tr>\n",
       "      <th>1</th>\n",
       "      <td>2</td>\n",
       "      <td>2010</td>\n",
       "      <td>82</td>\n",
       "      <td>0</td>\n",
       "      <td>1</td>\n",
       "      <td>0</td>\n",
       "      <td>9</td>\n",
       "      <td>13</td>\n",
       "      <td>0</td>\n",
       "      <td>8</td>\n",
       "      <td>4</td>\n",
       "      <td>0</td>\n",
       "      <td>12</td>\n",
       "      <td>12.60</td>\n",
       "      <td>31.2</td>\n",
       "    </tr>\n",
       "    <tr>\n",
       "      <th>2</th>\n",
       "      <td>3</td>\n",
       "      <td>2011</td>\n",
       "      <td>97</td>\n",
       "      <td>4</td>\n",
       "      <td>0</td>\n",
       "      <td>0</td>\n",
       "      <td>18</td>\n",
       "      <td>5</td>\n",
       "      <td>1</td>\n",
       "      <td>5</td>\n",
       "      <td>2</td>\n",
       "      <td>0</td>\n",
       "      <td>11</td>\n",
       "      <td>15.20</td>\n",
       "      <td>31.7</td>\n",
       "    </tr>\n",
       "    <tr>\n",
       "      <th>3</th>\n",
       "      <td>4</td>\n",
       "      <td>2012</td>\n",
       "      <td>72</td>\n",
       "      <td>0</td>\n",
       "      <td>1</td>\n",
       "      <td>0</td>\n",
       "      <td>17</td>\n",
       "      <td>1</td>\n",
       "      <td>0</td>\n",
       "      <td>5</td>\n",
       "      <td>2</td>\n",
       "      <td>3</td>\n",
       "      <td>10</td>\n",
       "      <td>11.10</td>\n",
       "      <td>28.1</td>\n",
       "    </tr>\n",
       "    <tr>\n",
       "      <th>4</th>\n",
       "      <td>5</td>\n",
       "      <td>2013</td>\n",
       "      <td>79</td>\n",
       "      <td>0</td>\n",
       "      <td>0</td>\n",
       "      <td>1</td>\n",
       "      <td>15</td>\n",
       "      <td>2</td>\n",
       "      <td>0</td>\n",
       "      <td>7</td>\n",
       "      <td>6</td>\n",
       "      <td>0</td>\n",
       "      <td>7</td>\n",
       "      <td>12.20</td>\n",
       "      <td>28.5</td>\n",
       "    </tr>\n",
       "    <tr>\n",
       "      <th>5</th>\n",
       "      <td>6</td>\n",
       "      <td>2014</td>\n",
       "      <td>67</td>\n",
       "      <td>5</td>\n",
       "      <td>1</td>\n",
       "      <td>3</td>\n",
       "      <td>12</td>\n",
       "      <td>0</td>\n",
       "      <td>1</td>\n",
       "      <td>2</td>\n",
       "      <td>3</td>\n",
       "      <td>0</td>\n",
       "      <td>7</td>\n",
       "      <td>10.20</td>\n",
       "      <td>27.3</td>\n",
       "    </tr>\n",
       "    <tr>\n",
       "      <th>6</th>\n",
       "      <td>7</td>\n",
       "      <td>2015</td>\n",
       "      <td>57</td>\n",
       "      <td>0</td>\n",
       "      <td>0</td>\n",
       "      <td>8</td>\n",
       "      <td>6</td>\n",
       "      <td>0</td>\n",
       "      <td>1</td>\n",
       "      <td>5</td>\n",
       "      <td>5</td>\n",
       "      <td>0</td>\n",
       "      <td>11</td>\n",
       "      <td>8.70</td>\n",
       "      <td>26.5</td>\n",
       "    </tr>\n",
       "    <tr>\n",
       "      <th>7</th>\n",
       "      <td>8</td>\n",
       "      <td>2016</td>\n",
       "      <td>54</td>\n",
       "      <td>0</td>\n",
       "      <td>0</td>\n",
       "      <td>3</td>\n",
       "      <td>5</td>\n",
       "      <td>7</td>\n",
       "      <td>3</td>\n",
       "      <td>4</td>\n",
       "      <td>0</td>\n",
       "      <td>0</td>\n",
       "      <td>5</td>\n",
       "      <td>8.20</td>\n",
       "      <td>25.6</td>\n",
       "    </tr>\n",
       "    <tr>\n",
       "      <th>8</th>\n",
       "      <td>9</td>\n",
       "      <td>2017</td>\n",
       "      <td>51</td>\n",
       "      <td>0</td>\n",
       "      <td>0</td>\n",
       "      <td>1</td>\n",
       "      <td>10</td>\n",
       "      <td>0</td>\n",
       "      <td>3</td>\n",
       "      <td>1</td>\n",
       "      <td>3</td>\n",
       "      <td>0</td>\n",
       "      <td>6</td>\n",
       "      <td>8.00</td>\n",
       "      <td>24.3</td>\n",
       "    </tr>\n",
       "    <tr>\n",
       "      <th>9</th>\n",
       "      <td>10</td>\n",
       "      <td>2018</td>\n",
       "      <td>56</td>\n",
       "      <td>0</td>\n",
       "      <td>0</td>\n",
       "      <td>4</td>\n",
       "      <td>6</td>\n",
       "      <td>7</td>\n",
       "      <td>1</td>\n",
       "      <td>4</td>\n",
       "      <td>5</td>\n",
       "      <td>1</td>\n",
       "      <td>2</td>\n",
       "      <td>8.78</td>\n",
       "      <td>21.5</td>\n",
       "    </tr>\n",
       "    <tr>\n",
       "      <th>10</th>\n",
       "      <td>11</td>\n",
       "      <td>2019</td>\n",
       "      <td>63</td>\n",
       "      <td>0</td>\n",
       "      <td>0</td>\n",
       "      <td>1</td>\n",
       "      <td>9</td>\n",
       "      <td>0</td>\n",
       "      <td>1</td>\n",
       "      <td>7</td>\n",
       "      <td>3</td>\n",
       "      <td>0</td>\n",
       "      <td>3</td>\n",
       "      <td>9.30</td>\n",
       "      <td>NaN</td>\n",
       "    </tr>\n",
       "  </tbody>\n",
       "</table>\n",
       "</div>"
      ],
      "text/plain": [
       "    순번    년도  군기사고(자살)  군기사고(총기)  군기사고(폭행)  군기사고(기타)  안전사고(차량)  안전사고(함정항공)  \\\n",
       "0    1  2009        81         0         0         0        13           0   \n",
       "1    2  2010        82         0         1         0         9          13   \n",
       "2    3  2011        97         4         0         0        18           5   \n",
       "3    4  2012        72         0         1         0        17           1   \n",
       "4    5  2013        79         0         0         1        15           2   \n",
       "5    6  2014        67         5         1         3        12           0   \n",
       "6    7  2015        57         0         0         8         6           0   \n",
       "7    8  2016        54         0         0         3         5           7   \n",
       "8    9  2017        51         0         0         1        10           0   \n",
       "9   10  2018        56         0         0         4         6           7   \n",
       "10  11  2019        63         0         0         1         9           0   \n",
       "\n",
       "    안전사고(폭발)  안전사고(추락충격)  안전사고(익사)  안전사고(화재)  안전사고(기타)  군자살률(10만명당)  \\\n",
       "0          0           8         7         0         4        12.40   \n",
       "1          0           8         4         0        12        12.60   \n",
       "2          1           5         2         0        11        15.20   \n",
       "3          0           5         2         3        10        11.10   \n",
       "4          0           7         6         0         7        12.20   \n",
       "5          1           2         3         0         7        10.20   \n",
       "6          1           5         5         0        11         8.70   \n",
       "7          3           4         0         0         5         8.20   \n",
       "8          3           1         3         0         6         8.00   \n",
       "9          1           4         5         1         2         8.78   \n",
       "10         1           7         3         0         3         9.30   \n",
       "\n",
       "    민간자살률(10만명당)  \n",
       "0           31.0  \n",
       "1           31.2  \n",
       "2           31.7  \n",
       "3           28.1  \n",
       "4           28.5  \n",
       "5           27.3  \n",
       "6           26.5  \n",
       "7           25.6  \n",
       "8           24.3  \n",
       "9           21.5  \n",
       "10           NaN  "
      ]
     },
     "execution_count": 5,
     "metadata": {},
     "output_type": "execute_result"
    }
   ],
   "source": [
    "died = pd.read_csv('./data/국방부_사망사고 통계_20200930.csv', encoding='euc-kr')\n",
    "died"
   ]
  },
  {
   "cell_type": "code",
   "execution_count": 6,
   "id": "ad20a400",
   "metadata": {},
   "outputs": [
    {
     "name": "stdout",
     "output_type": "stream",
     "text": [
      "<class 'pandas.core.frame.DataFrame'>\n",
      "RangeIndex: 11 entries, 0 to 10\n",
      "Data columns (total 15 columns):\n",
      " #   Column        Non-Null Count  Dtype  \n",
      "---  ------        --------------  -----  \n",
      " 0   순번            11 non-null     int64  \n",
      " 1   년도            11 non-null     int64  \n",
      " 2   군기사고(자살)      11 non-null     int64  \n",
      " 3   군기사고(총기)      11 non-null     int64  \n",
      " 4   군기사고(폭행)      11 non-null     int64  \n",
      " 5   군기사고(기타)      11 non-null     int64  \n",
      " 6   안전사고(차량)      11 non-null     int64  \n",
      " 7   안전사고(함정항공)    11 non-null     int64  \n",
      " 8   안전사고(폭발)      11 non-null     int64  \n",
      " 9   안전사고(추락충격)    11 non-null     int64  \n",
      " 10  안전사고(익사)      11 non-null     int64  \n",
      " 11  안전사고(화재)      11 non-null     int64  \n",
      " 12  안전사고(기타)      11 non-null     int64  \n",
      " 13  군자살률(10만명당)   11 non-null     float64\n",
      " 14  민간자살률(10만명당)  10 non-null     float64\n",
      "dtypes: float64(2), int64(13)\n",
      "memory usage: 1.4 KB\n"
     ]
    }
   ],
   "source": [
    "died.info()"
   ]
  },
  {
   "cell_type": "code",
   "execution_count": 7,
   "id": "f07dc68c",
   "metadata": {},
   "outputs": [
    {
     "data": {
      "image/png": "[encoded data removed]",
      "text/plain": [
       "<Figure size 720x576 with 2 Axes>"
      ]
     },
     "metadata": {
      "needs_background": "light"
     },
     "output_type": "display_data"
    }
   ],
   "source": [
    "msno.matrix(died, figsize=(10, 8))\n",
    "plt.show()"
   ]
  },
  {
   "cell_type": "code",
   "execution_count": 8,
   "id": "61b41fd2",
   "metadata": {},
   "outputs": [],
   "source": [
    "died['민간자살률(10만명당)'].fillna(0, inplace=True)"
   ]
  },
  {
   "cell_type": "code",
   "execution_count": 9,
   "id": "d3d724fd",
   "metadata": {},
   "outputs": [
    {
     "data": {
      "image/png": "[encoded data removed]",
      "text/plain": [
       "<Figure size 720x576 with 2 Axes>"
      ]
     },
     "metadata": {
      "needs_background": "light"
     },
     "output_type": "display_data"
    }
   ],
   "source": [
    "msno.matrix(died, figsize=(10, 8))\n",
    "plt.show()"
   ]
  },
  {
   "cell_type": "code",
   "execution_count": 10,
   "id": "a7696ee4",
   "metadata": {
    "scrolled": true
   },
   "outputs": [
    {
     "data": {
      "text/plain": [
       "Index(['순번', '년도', '군기사고(자살)', '군기사고(총기)', '군기사고(폭행)', '군기사고(기타)', '안전사고(차량)',\n",
       "       '안전사고(함정항공)', '안전사고(폭발)', '안전사고(추락충격)', '안전사고(익사)', '안전사고(화재)',\n",
       "       '안전사고(기타)', '군자살률(10만명당)', '민간자살률(10만명당)'],\n",
       "      dtype='object')"
      ]
     },
     "execution_count": 10,
     "metadata": {},
     "output_type": "execute_result"
    }
   ],
   "source": [
    "died.columns"
   ]
  },
  {
   "cell_type": "code",
   "execution_count": 11,
   "id": "2c1a8b72",
   "metadata": {},
   "outputs": [],
   "source": [
    "died['군기사고 합계'] = died['군기사고(자살)'] + died['군기사고(총기)'] + died['군기사고(폭행)'] + died['군기사고(기타)']\n",
    "died['안전사고 합계'] = died['안전사고(차량)'] + died['안전사고(함정항공)'] + died['안전사고(폭발)'] + died['안전사고(기타)']\n",
    "died['총 합계'] = died['군기사고 합계'] + died['안전사고 합계']"
   ]
  },
  {
   "cell_type": "code",
   "execution_count": 12,
   "id": "7818c934",
   "metadata": {},
   "outputs": [
    {
     "data": {
      "image/png": "[encoded data removed]",
      "text/plain": [
       "<Figure size 432x288 with 1 Axes>"
      ]
     },
     "metadata": {
      "needs_background": "light"
     },
     "output_type": "display_data"
    }
   ],
   "source": [
    "plt.plot(died['년도'],died['총 합계'])\n",
    "plt.title('국방부 사망사고 통계')\n",
    "plt.xlabel('년도(년)')\n",
    "plt.ylabel('합계(명)')\n",
    "plt.show()"
   ]
  },
  {
   "cell_type": "code",
   "execution_count": 13,
   "id": "6d80eba4",
   "metadata": {},
   "outputs": [
    {
     "data": {
      "text/plain": [
       "(499328, 39)"
      ]
     },
     "execution_count": 13,
     "metadata": {},
     "output_type": "execute_result"
    }
   ],
   "source": [
    "shop_201806 = pd.read_csv('./data/shop_201806_01.csv', encoding='euc-kr')\n",
    "shop_201806.shape"
   ]
  },
  {
   "cell_type": "code",
   "execution_count": 14,
   "id": "bbbb805b",
   "metadata": {},
   "outputs": [
    {
     "data": {
      "text/plain": [
       "Index(['상가업소번호', '상호명', '지점명', '상권업종대분류코드', '상권업종대분류명', '상권업종중분류코드',\n",
       "       '상권업종중분류명', '상권업종소분류코드', '상권업종소분류명', '표준산업분류코드', '표준산업분류명', '시도코드',\n",
       "       '시도명', '시군구코드', '시군구명', '행정동코드', '행정동명', '법정동코드', '법정동명', '지번코드',\n",
       "       '대지구분코드', '대지구분명', '지번본번지', '지번부번지', '지번주소', '도로명코드', '도로명', '건물본번지',\n",
       "       '건물부번지', '건물관리번호', '건물명', '도로명주소', '구우편번호', '신우편번호', '동정보', '층정보',\n",
       "       '호정보', '경도', '위도'],\n",
       "      dtype='object')"
      ]
     },
     "execution_count": 14,
     "metadata": {},
     "output_type": "execute_result"
    }
   ],
   "source": [
    "shop_201806.columns"
   ]
  },
  {
   "cell_type": "code",
   "execution_count": 15,
   "id": "50e5ab08",
   "metadata": {},
   "outputs": [
    {
     "data": {
      "text/html": [
       "<div>\n",
       "<style scoped>\n",
       "    .dataframe tbody tr th:only-of-type {\n",
       "        vertical-align: middle;\n",
       "    }\n",
       "\n",
       "    .dataframe tbody tr th {\n",
       "        vertical-align: top;\n",
       "    }\n",
       "\n",
       "    .dataframe thead th {\n",
       "        text-align: right;\n",
       "    }\n",
       "</style>\n",
       "<table border=\"1\" class=\"dataframe\">\n",
       "  <thead>\n",
       "    <tr style=\"text-align: right;\">\n",
       "      <th></th>\n",
       "      <th>상호명</th>\n",
       "      <th>지점명</th>\n",
       "      <th>상권업종대분류명</th>\n",
       "      <th>상권업종중분류명</th>\n",
       "      <th>상권업종소분류명</th>\n",
       "      <th>시도명</th>\n",
       "      <th>시군구명</th>\n",
       "      <th>행정동명</th>\n",
       "      <th>법정동명</th>\n",
       "      <th>도로명주소</th>\n",
       "      <th>경도</th>\n",
       "      <th>위도</th>\n",
       "    </tr>\n",
       "  </thead>\n",
       "  <tbody>\n",
       "    <tr>\n",
       "      <th>0</th>\n",
       "      <td>와라와라호프</td>\n",
       "      <td>NaN</td>\n",
       "      <td>음식</td>\n",
       "      <td>유흥주점</td>\n",
       "      <td>호프/맥주</td>\n",
       "      <td>서울특별시</td>\n",
       "      <td>강남구</td>\n",
       "      <td>대치1동</td>\n",
       "      <td>대치동</td>\n",
       "      <td>서울특별시 강남구 남부순환로 2933</td>\n",
       "      <td>127.061026</td>\n",
       "      <td>37.493922</td>\n",
       "    </tr>\n",
       "    <tr>\n",
       "      <th>1</th>\n",
       "      <td>커피빈코리아선릉로93길점</td>\n",
       "      <td>코리아선릉로93길점</td>\n",
       "      <td>음식</td>\n",
       "      <td>커피점/카페</td>\n",
       "      <td>커피전문점/카페/다방</td>\n",
       "      <td>서울특별시</td>\n",
       "      <td>강남구</td>\n",
       "      <td>역삼1동</td>\n",
       "      <td>역삼동</td>\n",
       "      <td>서울특별시 강남구 선릉로93길 6</td>\n",
       "      <td>127.047883</td>\n",
       "      <td>37.505675</td>\n",
       "    </tr>\n",
       "    <tr>\n",
       "      <th>2</th>\n",
       "      <td>프로포즈</td>\n",
       "      <td>NaN</td>\n",
       "      <td>음식</td>\n",
       "      <td>유흥주점</td>\n",
       "      <td>호프/맥주</td>\n",
       "      <td>서울특별시</td>\n",
       "      <td>금천구</td>\n",
       "      <td>독산3동</td>\n",
       "      <td>독산동</td>\n",
       "      <td>서울특별시 금천구 가산로 34-6</td>\n",
       "      <td>126.899220</td>\n",
       "      <td>37.471711</td>\n",
       "    </tr>\n",
       "    <tr>\n",
       "      <th>3</th>\n",
       "      <td>싱싱커피&amp;토스트</td>\n",
       "      <td>NaN</td>\n",
       "      <td>음식</td>\n",
       "      <td>패스트푸드</td>\n",
       "      <td>토스트전문</td>\n",
       "      <td>부산광역시</td>\n",
       "      <td>사상구</td>\n",
       "      <td>괘법동</td>\n",
       "      <td>괘법동</td>\n",
       "      <td>부산광역시 사상구 괘감로 37</td>\n",
       "      <td>128.980455</td>\n",
       "      <td>35.159774</td>\n",
       "    </tr>\n",
       "    <tr>\n",
       "      <th>4</th>\n",
       "      <td>가락사우나내스낵</td>\n",
       "      <td>NaN</td>\n",
       "      <td>생활서비스</td>\n",
       "      <td>대중목욕탕/휴게</td>\n",
       "      <td>사우나/증기탕/온천</td>\n",
       "      <td>서울특별시</td>\n",
       "      <td>송파구</td>\n",
       "      <td>석촌동</td>\n",
       "      <td>석촌동</td>\n",
       "      <td>서울특별시 송파구 가락로 71</td>\n",
       "      <td>127.104071</td>\n",
       "      <td>37.500249</td>\n",
       "    </tr>\n",
       "    <tr>\n",
       "      <th>...</th>\n",
       "      <td>...</td>\n",
       "      <td>...</td>\n",
       "      <td>...</td>\n",
       "      <td>...</td>\n",
       "      <td>...</td>\n",
       "      <td>...</td>\n",
       "      <td>...</td>\n",
       "      <td>...</td>\n",
       "      <td>...</td>\n",
       "      <td>...</td>\n",
       "      <td>...</td>\n",
       "      <td>...</td>\n",
       "    </tr>\n",
       "    <tr>\n",
       "      <th>499323</th>\n",
       "      <td>배스킨라빈스31</td>\n",
       "      <td>건대스타시티점</td>\n",
       "      <td>음식</td>\n",
       "      <td>패스트푸드</td>\n",
       "      <td>아이스크림판매</td>\n",
       "      <td>서울특별시</td>\n",
       "      <td>광진구</td>\n",
       "      <td>자양3동</td>\n",
       "      <td>자양동</td>\n",
       "      <td>서울특별시 광진구 아차산로 262</td>\n",
       "      <td>127.072944</td>\n",
       "      <td>37.536997</td>\n",
       "    </tr>\n",
       "    <tr>\n",
       "      <th>499324</th>\n",
       "      <td>본도시락</td>\n",
       "      <td>본설렁탕</td>\n",
       "      <td>음식</td>\n",
       "      <td>한식</td>\n",
       "      <td>설렁탕집</td>\n",
       "      <td>서울특별시</td>\n",
       "      <td>강동구</td>\n",
       "      <td>강일동</td>\n",
       "      <td>상일동</td>\n",
       "      <td>서울특별시 강동구 상일로6길 39</td>\n",
       "      <td>127.175331</td>\n",
       "      <td>37.549794</td>\n",
       "    </tr>\n",
       "    <tr>\n",
       "      <th>499325</th>\n",
       "      <td>체크페이먼트</td>\n",
       "      <td>NaN</td>\n",
       "      <td>음식</td>\n",
       "      <td>커피점/카페</td>\n",
       "      <td>커피전문점/카페/다방</td>\n",
       "      <td>서울특별시</td>\n",
       "      <td>강남구</td>\n",
       "      <td>대치4동</td>\n",
       "      <td>대치동</td>\n",
       "      <td>서울특별시 강남구 역삼로69길 10</td>\n",
       "      <td>127.054001</td>\n",
       "      <td>37.502210</td>\n",
       "    </tr>\n",
       "    <tr>\n",
       "      <th>499326</th>\n",
       "      <td>마젠타네일</td>\n",
       "      <td>NaN</td>\n",
       "      <td>생활서비스</td>\n",
       "      <td>이/미용/건강</td>\n",
       "      <td>발/네일케어</td>\n",
       "      <td>서울특별시</td>\n",
       "      <td>마포구</td>\n",
       "      <td>아현동</td>\n",
       "      <td>공덕동</td>\n",
       "      <td>서울특별시 마포구 마포대로 173</td>\n",
       "      <td>126.954442</td>\n",
       "      <td>37.549892</td>\n",
       "    </tr>\n",
       "    <tr>\n",
       "      <th>499327</th>\n",
       "      <td>GS25</td>\n",
       "      <td>역촌대로점</td>\n",
       "      <td>소매</td>\n",
       "      <td>종합소매점</td>\n",
       "      <td>편의점</td>\n",
       "      <td>서울특별시</td>\n",
       "      <td>은평구</td>\n",
       "      <td>역촌동</td>\n",
       "      <td>역촌동</td>\n",
       "      <td>서울특별시 은평구 연서로 92</td>\n",
       "      <td>126.915538</td>\n",
       "      <td>37.607334</td>\n",
       "    </tr>\n",
       "  </tbody>\n",
       "</table>\n",
       "<p>499328 rows × 12 columns</p>\n",
       "</div>"
      ],
      "text/plain": [
       "                  상호명         지점명 상권업종대분류명  상권업종중분류명     상권업종소분류명    시도명 시군구명  \\\n",
       "0              와라와라호프         NaN       음식      유흥주점        호프/맥주  서울특별시  강남구   \n",
       "1       커피빈코리아선릉로93길점  코리아선릉로93길점       음식    커피점/카페  커피전문점/카페/다방  서울특별시  강남구   \n",
       "2                프로포즈         NaN       음식      유흥주점        호프/맥주  서울특별시  금천구   \n",
       "3            싱싱커피&토스트         NaN       음식     패스트푸드        토스트전문  부산광역시  사상구   \n",
       "4            가락사우나내스낵         NaN    생활서비스  대중목욕탕/휴게   사우나/증기탕/온천  서울특별시  송파구   \n",
       "...               ...         ...      ...       ...          ...    ...  ...   \n",
       "499323       배스킨라빈스31     건대스타시티점       음식     패스트푸드      아이스크림판매  서울특별시  광진구   \n",
       "499324           본도시락        본설렁탕       음식        한식         설렁탕집  서울특별시  강동구   \n",
       "499325         체크페이먼트         NaN       음식    커피점/카페  커피전문점/카페/다방  서울특별시  강남구   \n",
       "499326          마젠타네일         NaN    생활서비스   이/미용/건강       발/네일케어  서울특별시  마포구   \n",
       "499327           GS25       역촌대로점       소매     종합소매점          편의점  서울특별시  은평구   \n",
       "\n",
       "        행정동명 법정동명                 도로명주소          경도         위도  \n",
       "0       대치1동  대치동  서울특별시 강남구 남부순환로 2933  127.061026  37.493922  \n",
       "1       역삼1동  역삼동    서울특별시 강남구 선릉로93길 6  127.047883  37.505675  \n",
       "2       독산3동  독산동    서울특별시 금천구 가산로 34-6  126.899220  37.471711  \n",
       "3        괘법동  괘법동      부산광역시 사상구 괘감로 37  128.980455  35.159774  \n",
       "4        석촌동  석촌동      서울특별시 송파구 가락로 71  127.104071  37.500249  \n",
       "...      ...  ...                   ...         ...        ...  \n",
       "499323  자양3동  자양동    서울특별시 광진구 아차산로 262  127.072944  37.536997  \n",
       "499324   강일동  상일동    서울특별시 강동구 상일로6길 39  127.175331  37.549794  \n",
       "499325  대치4동  대치동   서울특별시 강남구 역삼로69길 10  127.054001  37.502210  \n",
       "499326   아현동  공덕동    서울특별시 마포구 마포대로 173  126.954442  37.549892  \n",
       "499327   역촌동  역촌동      서울특별시 은평구 연서로 92  126.915538  37.607334  \n",
       "\n",
       "[499328 rows x 12 columns]"
      ]
     },
     "execution_count": 15,
     "metadata": {},
     "output_type": "execute_result"
    }
   ],
   "source": [
    "view = ['상호명', '지점명', '상권업종대분류명', '상권업종중분류명', '상권업종소분류명',  '시도명',\n",
    "                      '시군구명', '행정동명', '법정동명', '도로명주소', '경도', '위도']\n",
    "shop_2018_06 = shop_201806[view]\n",
    "shop_2018_06"
   ]
  },
  {
   "cell_type": "code",
   "execution_count": 18,
   "id": "56836873",
   "metadata": {},
   "outputs": [
    {
     "data": {
      "image/png": "[encoded data removed]",
      "text/plain": [
       "<Figure size 700x1000 with 1 Axes>"
      ]
     },
     "metadata": {},
     "output_type": "display_data"
    },
    {
     "data": {
      "text/plain": [
       "<ggplot: (-9223371921388056867)>"
      ]
     },
     "execution_count": 18,
     "metadata": {},
     "output_type": "execute_result"
    }
   ],
   "source": [
    "ggplot(shop_2018_06, aes(x='경도', y='위도')) \\\n",
    "    + geom_point() \\\n",
    "    + theme(text=element_text(family='NanumGothic'), figure_size=(7, 10))"
   ]
  },
  {
   "cell_type": "code",
   "execution_count": null,
   "id": "dae1ad61",
   "metadata": {},
   "outputs": [],
   "source": []
  },
  {
   "cell_type": "code",
   "execution_count": null,
   "id": "7951abc6",
   "metadata": {},
   "outputs": [],
   "source": []
  },
  {
   "cell_type": "code",
   "execution_count": null,
   "id": "7d674708",
   "metadata": {},
   "outputs": [],
   "source": []
  },
  {
   "cell_type": "code",
   "execution_count": null,
   "id": "234bb434",
   "metadata": {},
   "outputs": [],
   "source": []
  }
 ],
 "metadata": {
  "kernelspec": {
   "display_name": "Python 3",
   "language": "python",
   "name": "python3"
  },
  "language_info": {
   "codemirror_mode": {
    "name": "ipython",
    "version": 3
   },
   "file_extension": ".py",
   "mimetype": "text/x-python",
   "name": "python",
   "nbconvert_exporter": "python",
   "pygments_lexer": "ipython3",
   "version": "3.6.8"
  }
 },
 "nbformat": 4,
 "nbformat_minor": 5
}

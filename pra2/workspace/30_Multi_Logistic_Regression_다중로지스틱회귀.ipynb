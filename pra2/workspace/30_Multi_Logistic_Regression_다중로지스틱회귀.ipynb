{
 "cells": [
  {
   "cell_type": "code",
   "execution_count": 1,
   "id": "16a32c61",
   "metadata": {},
   "outputs": [
    {
     "name": "stdout",
     "output_type": "stream",
     "text": [
      "WARNING:tensorflow:From c:\\python\\lib\\site-packages\\tensorflow\\python\\compat\\v2_compat.py:101: disable_resource_variables (from tensorflow.python.ops.variable_scope) is deprecated and will be removed in a future version.\n",
      "Instructions for updating:\n",
      "non-resource variables are not supported in the long term\n"
     ]
    }
   ],
   "source": [
    "import warnings\n",
    "warnings.filterwarnings(\"ignore\")\n",
    "import numpy as np\n",
    "import pandas as pd\n",
    "import tensorflow.compat.v1 as tf\n",
    "tf.disable_v2_behavior()"
   ]
  },
  {
   "cell_type": "markdown",
   "id": "43d34f15",
   "metadata": {},
   "source": [
    "학습 데이터를 만든다"
   ]
  },
  {
   "cell_type": "code",
   "execution_count": 2,
   "id": "5973ec90",
   "metadata": {},
   "outputs": [
    {
     "name": "stdout",
     "output_type": "stream",
     "text": [
      "<class 'list'>\n",
      "[[2, 3], [4, 3], [6, 4], [8, 6], [10, 7], [12, 8], [14, 9]]\n",
      "<class 'numpy.ndarray'>\n",
      "[[ 2  3]\n",
      " [ 4  3]\n",
      " [ 6  4]\n",
      " [ 8  6]\n",
      " [10  7]\n",
      " [12  8]\n",
      " [14  9]]\n"
     ]
    }
   ],
   "source": [
    "# xData => [공부 시간, 과외 시간]\n",
    "temp = [[2, 3], [4, 3], [6, 4], [8, 6], [10, 7], [12, 8], [14, 9]]\n",
    "print(type(temp))\n",
    "print(temp)\n",
    "\n",
    "# array() 함수로 파이썬 리스트를 넘파이 배열로 만든다.\n",
    "xData = np.array(temp)\n",
    "print(type(xData))\n",
    "print(xData)"
   ]
  },
  {
   "cell_type": "code",
   "execution_count": 3,
   "id": "d9c08913",
   "metadata": {},
   "outputs": [
    {
     "name": "stdout",
     "output_type": "stream",
     "text": [
      "<class 'list'>\n",
      "[0, 0, 0, 1, 1, 1, 1]\n",
      "<class 'numpy.ndarray'>\n",
      "[[0]\n",
      " [0]\n",
      " [0]\n",
      " [1]\n",
      " [1]\n",
      " [1]\n",
      " [1]]\n"
     ]
    }
   ],
   "source": [
    "# yData => [합격 여부] => 실제값, 0: 불합격, 1: 합격\n",
    "temp = [0, 0, 0, 1, 1, 1, 1]\n",
    "print(type(temp))\n",
    "print(temp)\n",
    "\n",
    "# yData = np.array(temp) # 1차원 배열\n",
    "# print(type(yData))\n",
    "# print(yData)\n",
    "# reshape() 함수는 데이터는 그대로 유지한 채 배열의 형태(차원, 구조)를 변경한다. 1행 7열 넘파이 배열 => 7행 1열 넘파이 배열\n",
    "yData = np.array(temp).reshape(7, 1) # 2차원 배열\n",
    "print(type(yData))\n",
    "print(yData)"
   ]
  },
  {
   "cell_type": "markdown",
   "id": "48e46a18",
   "metadata": {},
   "source": [
    "xData와 yData를 저장할 placeholder를 만든다."
   ]
  },
  {
   "cell_type": "code",
   "execution_count": 4,
   "id": "c6c27b22",
   "metadata": {},
   "outputs": [],
   "source": [
    "# placeholder에 넘파이 배열을 대입하는 경우 shape 속성을 이용해서 대입되는 넘파이 배열의 차원을 지정해야 한다.\n",
    "# [None, 2] => placeholder에 대입되는 넘파이 배열은 행의 개수는 몇개라도 상관없고 열의 개수는 무조건 2개이다.\n",
    "X = tf.placeholder(dtype=tf.float32, shape=[None, 2]) # xData가 대입될 placeholder\n",
    "Y = tf.placeholder(dtype=tf.float32, shape=[None, 1]) # yData가 대입될 placeholder"
   ]
  },
  {
   "cell_type": "markdown",
   "id": "a75cc136",
   "metadata": {},
   "source": [
    "기울기(가중치) a와 y절편(바이어스) b를 임의로 정한다."
   ]
  },
  {
   "cell_type": "code",
   "execution_count": 6,
   "id": "c07b6ba5",
   "metadata": {},
   "outputs": [
    {
     "name": "stdout",
     "output_type": "stream",
     "text": [
      "a: [[0.8694953 ]\n",
      " [0.55088353]]\n",
      "b: [0.83338463]\n",
      "a1: [0.8694953], a2: [0.55088353], b: [0.83338463]\n"
     ]
    }
   ],
   "source": [
    "a = tf.Variable(tf.random_uniform([2, 1]), dtype=tf.float32) # 난수를 2행 1열로 만든다. => 행렬의 내적(곱)을 이용해 처리한다.\n",
    "b = tf.Variable(tf.random_uniform([1]), dtype=tf.float32)\n",
    "\n",
    "sess = tf.Session()\n",
    "sess.run(tf.global_variables_initializer())\n",
    "print('a: {}'.format(sess.run(a)))\n",
    "print('b: {}'.format(sess.run(b)))\n",
    "print('a1: {}, a2: {}, b: {}'.format(sess.run(a)[0], sess.run(a)[1], sess.run(b)))"
   ]
  },
  {
   "cell_type": "markdown",
   "id": "b544a3b7",
   "metadata": {},
   "source": [
    "시그모이드 방정식, 오차 함수, 경사 하강"
   ]
  },
  {
   "cell_type": "code",
   "execution_count": 7,
   "id": "49576feb",
   "metadata": {},
   "outputs": [],
   "source": [
    "# sigmoid(): temsorflow에서 시그모이드 방정식을 계산하는 함수\n",
    "# matmul(): temsorflow에서 행렬의 내적(곱)을 계산하는 함수\n",
    "y = tf.sigmoid(tf.matmul(X, a) + b) # 시그모이드 방정식\n",
    "loss = -tf.reduce_mean(Y * tf.log(y) + (1 - Y) * tf.log(1 - y))\n",
    "gradient_descent = tf.train.GradientDescentOptimizer(0.1).minimize(loss)"
   ]
  },
  {
   "cell_type": "markdown",
   "id": "8919e56d",
   "metadata": {},
   "source": [
    "sigmoid() 함수의 실행 결과(y)가 0.5 이상이면 1을 0.5 미만이면 0을 리턴한다."
   ]
  },
  {
   "cell_type": "code",
   "execution_count": 8,
   "id": "f8d6ee5c",
   "metadata": {},
   "outputs": [
    {
     "name": "stdout",
     "output_type": "stream",
     "text": [
      "0.0\n",
      "1.0\n"
     ]
    }
   ],
   "source": [
    "sess = tf.Session()\n",
    "# cast(캐스팅할 데이터, dtype=캐스팅될 데이터 타입): tensorflow에서 형변환을 하는 함수\n",
    "# predicted = tf.cast(tf.constant([1.9, 2.1]), dtype=tf.int32)\n",
    "# print(sess.run(predicted)) # [1 2]\n",
    "\n",
    "# cast() 함수의 캐스팅할 데이터가 boolean 타입이면 True는 1로 False는 0으로 캐스팅 한다.\n",
    "predicted = tf.cast(0.4 >= 0.5, dtype=tf.float32)\n",
    "print(sess.run(predicted))\n",
    "predicted = tf.cast(0.5 >= 0.5, dtype=tf.float32)\n",
    "print(sess.run(predicted))"
   ]
  },
  {
   "cell_type": "markdown",
   "id": "fbe62199",
   "metadata": {},
   "source": [
    "sigmoid() 함수를 실행한 예상값을 계산한다."
   ]
  },
  {
   "cell_type": "code",
   "execution_count": 10,
   "id": "ba3749b0",
   "metadata": {},
   "outputs": [],
   "source": [
    "predicted = tf.cast(y >= 0.5, dtype=tf.float32) # 예측값, sigmoid() 함수를 실행한 결과(y)를 0 또는 1로 변환한다.\n",
    "# sogmoid() 함수를 실행해서 얻은 예측값(predicted)이 실제값(Y)과 일치하는 정도(정확도)를 계산한다.\n",
    "# equal(): tensorflow에서 인수로 지정된 값이 같으면 True, 다르면 False를 리턴하는 함수\n",
    "# equal() 함수로 예측값(predicted)과 실제값(Y)이 같은가 비교한 후 True 또는 False 결과를 1 또는 0으로 캐스팅하고 시행된 전체\n",
    "# 결과의 평균을 계산한다.\n",
    "accuracy = tf.reduce_mean(tf.cast(tf.equal(predicted, Y), dtype=tf.float32)) # 정확도"
   ]
  },
  {
   "cell_type": "markdown",
   "id": "667ea77c",
   "metadata": {},
   "source": [
    "학습을 시킨다."
   ]
  },
  {
   "cell_type": "code",
   "execution_count": 12,
   "id": "c171b1d9",
   "metadata": {},
   "outputs": [
    {
     "name": "stdout",
     "output_type": "stream",
     "text": [
      "Epoch:    0, a1:   0.63604, a2:   0.18286, b:   0.23033, loss:   1.96785\n",
      "Epoch:  300, a1:   0.84358, a2:  -0.58556, b:  -2.47562, loss:   0.26422\n",
      "Epoch:  600, a1:   0.82919, a2:  -0.29764, b:  -3.92170, loss:   0.19065\n",
      "Epoch:  900, a1:   0.73586, a2:   0.03301, b:  -4.97654, loss:   0.14936\n",
      "Epoch: 1200, a1:   0.63119, a2:   0.34006, b:  -5.81362, loss:   0.12238\n",
      "Epoch: 1500, a1:   0.53195, a2:   0.61322, b:  -6.50895, loss:   0.10340\n",
      "Epoch: 1800, a1:   0.44240, a2:   0.85398, b:  -7.10407, loss:   0.08936\n",
      "Epoch: 2100, a1:   0.36293, a2:   1.06647, b:  -7.62443, loss:   0.07860\n",
      "Epoch: 2400, a1:   0.29267, a2:   1.25501, b:  -8.08684, loss:   0.07010\n",
      "Epoch: 2700, a1:   0.23046, a2:   1.42342, b:  -8.50299, loss:   0.06325\n",
      "Epoch: 3000, a1:   0.17513, a2:   1.57492, b:  -8.88135, loss:   0.05760\n",
      "================================================================================\n",
      "공부 시간: 6, 과외 시간: 5\n",
      "합격 여부: 합격, 합격 확률:  51.10%\n",
      "================================================================================\n",
      "공부 시간: 0, 과외 시간:  0 합격 여부: 불합격, 합격 확률:   0.01%\n",
      "공부 시간: 0, 과외 시간:  1 합격 여부: 불합격, 합격 확률:   0.07%\n",
      "공부 시간: 0, 과외 시간:  2 합격 여부: 불합격, 합격 확률:   0.32%\n",
      "공부 시간: 0, 과외 시간:  3 합격 여부: 불합격, 합격 확률:   1.54%\n",
      "공부 시간: 0, 과외 시간:  4 합격 여부: 불합격, 합격 확률:   7.03%\n",
      "공부 시간: 0, 과외 시간:  5 합격 여부: 불합격, 합격 확률:  26.76%\n",
      "공부 시간: 0, 과외 시간:  6 합격 여부:   합격, 합격 확률:  63.83%\n",
      "공부 시간: 0, 과외 시간:  7 합격 여부:   합격, 합격 확률:  89.50%\n",
      "공부 시간: 0, 과외 시간:  8 합격 여부:   합격, 합격 확률:  97.63%\n",
      "공부 시간: 0, 과외 시간:  9 합격 여부:   합격, 합격 확률:  99.50%\n",
      "공부 시간: 0, 과외 시간: 10 합격 여부:   합격, 합격 확률:  99.90%\n"
     ]
    }
   ],
   "source": [
    "sess = tf.Session()\n",
    "sess.run(tf.global_variables_initializer())\n",
    "\n",
    "for i in range(3001):\n",
    "    # sess.run([기울기, y절편, 오차함수, 경사하강], feed_dict={X: 입력 데이터, Y: 입력 데이터에 따른 실제값})\n",
    "    # 연산을 하긴 하는데 결과를 사용하지 않을 실행 결과를 기억하는 변수는 '_'로 사용한다.\n",
    "    a_, b_, loss_, _ = sess.run([a, b, loss, gradient_descent], feed_dict={X: xData, Y: yData})\n",
    "    if i % 300 == 0:\n",
    "        # Epoch: 학습 횟수, a1: 공부 시간 기울기, a2: 과외 시간 기울기, b: y절편, loss: 오차 함수\n",
    "        # print('Epoch: %4d, a1: %9.5f, a2: %9.5f, b: %9.5f, loss: %9.5f' % (i, a_[0], a_[1], b_, loss_))\n",
    "        print('Epoch: {0:4d}, a1: {1:9.5f}, a2: {2:9.5f}, b: {3:9.5f}, loss: {4:9.5f}'.format(i, a_[0][0], a_[1][0], \n",
    "                        b_[0], loss_))\n",
    "# =============================================\n",
    "print('=' * 80)\n",
    "\n",
    "# 테스트 데이터를 만든다.\n",
    "# new_x = np.array([6, 5]) # 테스트 데이터가 1차원 넘파이 배열이기 때문에 행렬의 곱셈 연산이 실행되지 않는다.\n",
    "# print(new_x)       # [6 5] => 1차원\n",
    "# print(new_x.shape) # (2,) => 1차원\n",
    "# print(new_x.ndim)  # 1 => 1차원\n",
    "# reshape() 함수로 테스트 데이터를 1행 2열인 2차원 넘파이 배열로 변환해야 행렬의 곱셈 연산이 제대로 실행된다.\n",
    "new_x = np.array([6, 5]).reshape(1, 2)\n",
    "# print(new_x)       # [[6 5]] => 2차원\n",
    "# print(new_x.shape) # (1, 2) => 2차원\n",
    "# print(new_x.ndim)  # 2 => 2차원\n",
    "\n",
    "# sigmoid() 함수의 연산 결과에 테스트 데이터를 대입해서 연산한다.\n",
    "result, new_y = sess.run([predicted, y], feed_dict={X: new_x})\n",
    "# print('공부 시간: {}, 과외 시간: {}'.format(new_x[:, 0][0], new_x[:, 1][0]))\n",
    "# print('공부 시간: {}, 과외 시간: {}'.format(new_x[0, 0], new_x[0, 1]))\n",
    "print('공부 시간: %d, 과외 시간: %d' % (new_x[:, 0], new_x[:, 1]))\n",
    "# print('합격 여부: {0:1.0f}, 합격 확률: {1:6.2f}%'.format(result[0][0], new_y[0][0] * 100))\n",
    "# print('합격 여부: {0:s}, 합격 확률: {1:6.2f}%'.format('합격' if result[0][0] == 1 else '불합격', new_y[0][0] * 100))\n",
    "print('합격 여부: %s, 합격 확률: %6.2f%%' % ('합격' if result[0][0] == 1 else '불합격', new_y[0][0] * 100))\n",
    "print('=' * 80)\n",
    "\n",
    "# 공부는 1시간도 안하고 과외 수업만 0 ~ 10 시간을 받았을 때 합격 여부와 합격 확률을 계산한다.\n",
    "for i in range(11):\n",
    "    new_x = np.array([0, i]).reshape(1, 2)\n",
    "    result, new_y = sess.run([predicted, y], feed_dict={X: new_x})\n",
    "    print('공부 시간: %d, 과외 시간: %2d' % (new_x[0, 0], new_x[0, 1]), end=' ')\n",
    "    print('합격 여부: %s, 합격 확률: %6.2f%%' % ('  합격' if result[0][0] == 1 else '불합격', new_y[0][0] * 100))"
   ]
  },
  {
   "cell_type": "code",
   "execution_count": null,
   "id": "c9f7cc70",
   "metadata": {},
   "outputs": [],
   "source": []
  },
  {
   "cell_type": "code",
   "execution_count": null,
   "id": "f8d877bb",
   "metadata": {},
   "outputs": [],
   "source": []
  },
  {
   "cell_type": "code",
   "execution_count": null,
   "id": "ec17d600",
   "metadata": {},
   "outputs": [],
   "source": []
  },
  {
   "cell_type": "code",
   "execution_count": null,
   "id": "1cf19db6",
   "metadata": {},
   "outputs": [],
   "source": []
  },
  {
   "cell_type": "code",
   "execution_count": null,
   "id": "7e3684c4",
   "metadata": {},
   "outputs": [],
   "source": []
  },
  {
   "cell_type": "code",
   "execution_count": null,
   "id": "47fb4691",
   "metadata": {},
   "outputs": [],
   "source": []
  },
  {
   "cell_type": "code",
   "execution_count": null,
   "id": "dc3f587d",
   "metadata": {},
   "outputs": [],
   "source": []
  },
  {
   "cell_type": "code",
   "execution_count": null,
   "id": "0b7caf1e",
   "metadata": {},
   "outputs": [],
   "source": []
  },
  {
   "cell_type": "code",
   "execution_count": null,
   "id": "9d661ca8",
   "metadata": {},
   "outputs": [],
   "source": []
  }
 ],
 "metadata": {
  "kernelspec": {
   "display_name": "Python 3",
   "language": "python",
   "name": "python3"
  },
  "language_info": {
   "codemirror_mode": {
    "name": "ipython",
    "version": 3
   },
   "file_extension": ".py",
   "mimetype": "text/x-python",
   "name": "python",
   "nbconvert_exporter": "python",
   "pygments_lexer": "ipython3",
   "version": "3.6.8"
  }
 },
 "nbformat": 4,
 "nbformat_minor": 5
}

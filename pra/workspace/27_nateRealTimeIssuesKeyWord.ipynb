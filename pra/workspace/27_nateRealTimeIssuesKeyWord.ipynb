{
 "cells": [
  {
   "cell_type": "code",
   "execution_count": 1,
   "id": "578557ed",
   "metadata": {},
   "outputs": [],
   "source": [
    "import warnings\n",
    "warnings.filterwarnings(action='ignore')\n",
    "import requests\n",
    "from bs4 import BeautifulSoup\n",
    "from datetime import datetime as dt"
   ]
  },
  {
   "cell_type": "code",
   "execution_count": 2,
   "id": "19b8f01f",
   "metadata": {},
   "outputs": [],
   "source": [
    "targetsite = 'https://www.nate.com/'\n",
    "header = {'User-agent': 'Mozilla/5.0 (Windows NT 6.1; WOW64; Trident/7.0; rv:11.0)} like Gecko'}"
   ]
  },
  {
   "cell_type": "code",
   "execution_count": 10,
   "id": "04777c6b",
   "metadata": {},
   "outputs": [
    {
     "name": "stdout",
     "output_type": "stream",
     "text": [
      " 6위 이재명 보은 인사\n",
      " 7위 경기도의회 국민의 힘\n",
      " 8위 길건\n",
      " 9위 김준호 전속계약 하지원과\n",
      "10위 영탁 예천양조 고소\n",
      "================================================================================\n",
      " 6위 이재명 보은 인사 ↑1\n",
      " 7위 경기도의회 국민의 힘 ↑1\n",
      " 8위 길건 ↓2\n",
      " 9위 김준호 전속계약 하지원과 -\n",
      "10위 영탁 예천양조 고소 -\n"
     ]
    }
   ],
   "source": [
    "request = requests.get(targetsite, headers=header)\n",
    "# print(request)\n",
    "html = request.text\n",
    "# print(html)\n",
    "soup = BeautifulSoup(html, 'html.parser')\n",
    "# print(soup)\n",
    "\n",
    "# 순위만 크롤링하려면 'class' 속성이 'num_rank'인 <span> 태그를 얻어오면 된다.\n",
    "ranks = soup.findAll('span', {'class': 'num_rank'})\n",
    "# for rank in ranks[:5]:\n",
    "    # print(rank.text)\n",
    "\n",
    "# 실시간 이슈 키워드만 클롤링하려면 'class' 속성이 'txt_rank'인 <span> 태그를 얻어오면 된다.\n",
    "issues = soup.findAll('span', {'class': 'txt_rank'})\n",
    "for i in range(len(issues)):\n",
    "    print('{0:>2s}위 {1}'.format(ranks[i].text, issues[i].text))\n",
    "print('=' * 80)\n",
    "\n",
    "# 실시간 이슈 키워드와 상승, 하락 폭 까지 크롤링하려면 'class' 속성이 'ik'인 <a> 태그를 얻어오면 된다.\n",
    "issues = soup.findAll('a', {'class': 'ik'})\n",
    "# for issue in issues:\n",
    "    # print(issue.text.split('\\n'))\n",
    "# print('=' * 80)\n",
    "\n",
    "# for issue in issues:\n",
    "    # print(issue.text.split('\\n')[1], issue.text.split('\\n')[2])\n",
    "# print('=' * 80)\n",
    "\n",
    "for i in range(len(issues)):\n",
    "    print('{0:>2s}위 {1}'.format(ranks[i].text, issues[i].text.split('\\n')[1]), end=' ')\n",
    "    upDown = issues[i].text.split('\\n')[2]\n",
    "    if upDown[:2] == '상승':\n",
    "        print('↑{}'.format(upDown[2:]))\n",
    "    elif upDown[:2] == '하락':\n",
    "        print('↓{}'.format(upDown[2:]))\n",
    "    elif upDown[:2] == '동일':\n",
    "        print('-')\n",
    "    else:\n",
    "        print(upDown)"
   ]
  },
  {
   "cell_type": "code",
   "execution_count": null,
   "id": "239f5e4d",
   "metadata": {},
   "outputs": [],
   "source": []
  },
  {
   "cell_type": "code",
   "execution_count": null,
   "id": "a61d8a62",
   "metadata": {},
   "outputs": [],
   "source": []
  },
  {
   "cell_type": "code",
   "execution_count": null,
   "id": "1aa60b84",
   "metadata": {},
   "outputs": [],
   "source": []
  },
  {
   "cell_type": "code",
   "execution_count": null,
   "id": "64bdbdaa",
   "metadata": {},
   "outputs": [],
   "source": []
  }
 ],
 "metadata": {
  "kernelspec": {
   "display_name": "Python 3 (ipykernel)",
   "language": "python",
   "name": "python3"
  },
  "language_info": {
   "codemirror_mode": {
    "name": "ipython",
    "version": 3
   },
   "file_extension": ".py",
   "mimetype": "text/x-python",
   "name": "python",
   "nbconvert_exporter": "python",
   "pygments_lexer": "ipython3",
   "version": "3.9.6"
  }
 },
 "nbformat": 4,
 "nbformat_minor": 5
}

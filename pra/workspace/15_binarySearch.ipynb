{
 "cells": [
  {
   "cell_type": "code",
   "execution_count": 14,
   "id": "414652a1",
   "metadata": {},
   "outputs": [
    {
     "name": "stdout",
     "output_type": "stream",
     "text": [
      "검색할 데이터 : 30\n",
      "3번 비교\n",
      "검색 성공!!! 30는(은) 4번째 인덱스의 데이터입니다\n"
     ]
    }
   ],
   "source": [
    "searchData = [2, 11, 19, 27, 30, 31, 45, 121]\n",
    "number = int(input('검색할 데이터 : '))\n",
    "\n",
    "l = 0                    # 검색할 데이터의 첫번째 인덱스를 기억하는 변수\n",
    "h = len(searchData) - 1  # 검색할 데이터의 마지막 인덱스를 기억하는 변수\n",
    "m = 0                    # 데이터를 검색 할 리스트의 중간 인덱스를 기억하는 변수 => 이 위치의 결과 찾으려는 데이터를 비교한다\n",
    "count = 0                # 데이터를 검색하기 위해 비교하는 함수를 기억하는 변수\n",
    "isFlag = False          # 데이터 검색에 성공했나(True) 실패했나(False)를 기억하는 변수\n",
    "\n",
    "# l이 h보다 커지면 찾으려는 데이터가 리스트에 없으므로 반복을 중지한다\n",
    "while l <= h:\n",
    "    m = (l + h) // 2 # 찾으려는 데이터와 비교할 데이터의 위치를 계산한다 => 중간 위치를 계산한다\n",
    "    count += 1       # 비교 함수를 증가시킨다\n",
    "    if number > searchData[m]:\n",
    "        l = m + 1\n",
    "    elif number < searchData[m]:\n",
    "        h = m - 1\n",
    "    else: # 크지도 않고 작지도 않다면 같다는 의미 => 찾았다 => 반복을 탈출한다\n",
    "        isFlag = True\n",
    "        break\n",
    "# ====== while l <= h\n",
    "print('{}번 비교'.format(count))\n",
    "# 데이터를 찾앗으면 isFlag에는 Ture가 들어있고 찾지 못했다면 초기값인 False가 들어있다\n",
    "if isFlag:\n",
    "    print(\"검색 성공!!! {}는(은) {}번째 인덱스의 데이터입니다\".format(number, m))\n",
    "else:\n",
    "    print(\"검색 실패!!! {}는(은) 존재하지 않는 데이터입니다\".format(number))"
   ]
  },
  {
   "cell_type": "code",
   "execution_count": null,
   "id": "74c891fd",
   "metadata": {},
   "outputs": [],
   "source": []
  },
  {
   "cell_type": "code",
   "execution_count": null,
   "id": "e52c0bec",
   "metadata": {},
   "outputs": [],
   "source": []
  },
  {
   "cell_type": "code",
   "execution_count": null,
   "id": "3d681a94",
   "metadata": {},
   "outputs": [],
   "source": []
  },
  {
   "cell_type": "code",
   "execution_count": null,
   "id": "ea85933e",
   "metadata": {},
   "outputs": [],
   "source": []
  },
  {
   "cell_type": "code",
   "execution_count": null,
   "id": "ba6a3d34",
   "metadata": {},
   "outputs": [],
   "source": []
  },
  {
   "cell_type": "code",
   "execution_count": null,
   "id": "f782e435",
   "metadata": {},
   "outputs": [],
   "source": []
  },
  {
   "cell_type": "code",
   "execution_count": null,
   "id": "148c6530",
   "metadata": {},
   "outputs": [],
   "source": []
  },
  {
   "cell_type": "code",
   "execution_count": null,
   "id": "e9d147f5",
   "metadata": {},
   "outputs": [],
   "source": []
  },
  {
   "cell_type": "code",
   "execution_count": null,
   "id": "6c4d2528",
   "metadata": {},
   "outputs": [],
   "source": []
  }
 ],
 "metadata": {
  "kernelspec": {
   "display_name": "Python 3 (ipykernel)",
   "language": "python",
   "name": "python3"
  },
  "language_info": {
   "codemirror_mode": {
    "name": "ipython",
    "version": 3
   },
   "file_extension": ".py",
   "mimetype": "text/x-python",
   "name": "python",
   "nbconvert_exporter": "python",
   "pygments_lexer": "ipython3",
   "version": "3.9.6"
  }
 },
 "nbformat": 4,
 "nbformat_minor": 5
}

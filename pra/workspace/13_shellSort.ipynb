{
 "cells": [
  {
   "cell_type": "code",
   "execution_count": 4,
   "id": "d0feb2d9",
   "metadata": {},
   "outputs": [
    {
     "name": "stdout",
     "output_type": "stream",
     "text": [
      "[19, 2, 31, 27, 30, 11, 121, 45]\n",
      "[19, 2, 30, 11, 31, 27, 121, 45]\n",
      "[2, 11, 19, 27, 30, 31, 45, 121]\n"
     ]
    }
   ],
   "source": [
    "data = [19, 2, 31, 45, 30, 11, 121, 27]\n",
    "mid = len(data) // 2 # 정렬할 데이터의 중간 위치를 계산한다 => 블록의 크기\n",
    "\n",
    "# 정렬할 데이터의 개수에 따라서 회전수가 달라지므로 정렬할 데이터의 중간 위치가 0보다 큰 동안 반복하며 정렬한다\n",
    "while mid > 0:\n",
    "    for i in range(mid, len(data)):\n",
    "        key = data[i]\n",
    "        index = i\n",
    "        while index >= mid and data[index - mid] > key:\n",
    "            data[index] = data[index - mid]\n",
    "            index -= mid\n",
    "        # ====== while index >= mid and data(index - mid) > key\n",
    "        data[index] = key\n",
    "    # ======= for i in range(mid, len(data)) => 회전 종료\n",
    "    print(data)\n",
    "    mid //= 2 # 블록의 크기를 반으로 줄인다\n",
    "# ===== while mid > 0 => 정렬 종료\n",
    "# print(data)"
   ]
  },
  {
   "cell_type": "code",
   "execution_count": null,
   "id": "7613d9d0",
   "metadata": {},
   "outputs": [],
   "source": []
  },
  {
   "cell_type": "code",
   "execution_count": null,
   "id": "d7c64f7c",
   "metadata": {},
   "outputs": [],
   "source": []
  },
  {
   "cell_type": "code",
   "execution_count": null,
   "id": "d975b7ce",
   "metadata": {},
   "outputs": [],
   "source": []
  },
  {
   "cell_type": "code",
   "execution_count": null,
   "id": "5850817e",
   "metadata": {},
   "outputs": [],
   "source": []
  },
  {
   "cell_type": "code",
   "execution_count": null,
   "id": "9e7f7a08",
   "metadata": {},
   "outputs": [],
   "source": []
  },
  {
   "cell_type": "code",
   "execution_count": null,
   "id": "54a5dedf",
   "metadata": {},
   "outputs": [],
   "source": []
  }
 ],
 "metadata": {
  "kernelspec": {
   "display_name": "Python 3 (ipykernel)",
   "language": "python",
   "name": "python3"
  },
  "language_info": {
   "codemirror_mode": {
    "name": "ipython",
    "version": 3
   },
   "file_extension": ".py",
   "mimetype": "text/x-python",
   "name": "python",
   "nbconvert_exporter": "python",
   "pygments_lexer": "ipython3",
   "version": "3.9.6"
  }
 },
 "nbformat": 4,
 "nbformat_minor": 5
}

{
 "cells": [
  {
   "cell_type": "code",
   "execution_count": 4,
   "id": "b9a4b64c",
   "metadata": {},
   "outputs": [],
   "source": [
    "import warnings\n",
    "warnings.filterwarnings(action='ignore')\n",
    "import requests\n",
    "from bs4 import BeautifulSoup\n",
    "from datetime import datetime as dt\n",
    "import time"
   ]
  },
  {
   "cell_type": "code",
   "execution_count": 5,
   "id": "779888fa",
   "metadata": {},
   "outputs": [
    {
     "name": "stdout",
     "output_type": "stream",
     "text": [
      "https://www.genie.co.kr/chart/top200?ditc=D&ymd=20210806&hh=21&rtm=Y&pg=1\n",
      "https://www.genie.co.kr/chart/top200?ditc=D&ymd=20210806&hh=21&rtm=Y&pg=2\n",
      "https://www.genie.co.kr/chart/top200?ditc=D&ymd=20210806&hh=21&rtm=Y&pg=3\n",
      "https://www.genie.co.kr/chart/top200?ditc=D&ymd=20210806&hh=21&rtm=Y&pg=4\n"
     ]
    }
   ],
   "source": [
    "# 타겟 사이트 주소 만들기\n",
    "# https://www.genie.co.kr/chart/top200?ditc=D&ymd=20210806&hh=21&rtm=Y&pg=1 => 1 ~ 50\n",
    "# https://www.genie.co.kr/chart/top200?ditc=D&ymd=20210806&hh=21&rtm=Y&pg=2 => 51 ~ 100\n",
    "# https://www.genie.co.kr/chart/top200?ditc=D&ymd=20210806&hh=21&rtm=Y&pg=3 => 101 ~ 150\n",
    "# https://www.genie.co.kr/chart/top200?ditc=D&ymd=20210806&hh=21&rtm=Y&pg=4 => 151 ~ 200\n",
    "url = 'https://www.genie.co.kr/chart/top200?ditc=D&ymd=20210806&hh=21&rtm=Y&pg='\n",
    "for i in range(1,5):\n",
    "    # print(url + str(i))\n",
    "    print('{}{}'.format(url, i))\n",
    "    "
   ]
  },
  {
   "cell_type": "code",
   "execution_count": 6,
   "id": "1561a3e7",
   "metadata": {
    "scrolled": true
   },
   "outputs": [
    {
     "name": "stdout",
     "output_type": "stream",
     "text": [
      "1 신호등\n",
      "2 낙하 (With 아이유)\n",
      "3 바라만 본다\n",
      "4 Permission to Dance\n",
      "5 고백\n",
      "6 Next Level\n",
      "7 Weekend\n",
      "8 좋아좋아\n",
      "9 Butter\n",
      "10 OHAYO MY NIGHT\n",
      "11 둘 중에 골라 (Summer or Summer)\n",
      "12 Bad Habits\n",
      "13 헤픈 우연\n",
      "14 치맛바람 (Chi Mat Ba Ram)\n",
      "15 Dynamite\n",
      "16 비가 오는 날엔 (2021)\n",
      "17 하루만 더\n",
      "18 Peaches (Feat. Daniel Caesar & Giveon)\n",
      "19 비와 당신\n",
      "20 롤린 (Rollin')\n",
      "21 이제 나만 믿어요\n",
      "22 Dun Dun Dance\n",
      "23 Alcohol-Free\n",
      "24 라일락\n",
      "25 별빛 같은 나의 사랑아\n",
      "26 다시 사랑한다면 (김필 Ver.)\n",
      "27 HERO\n",
      "28 DUMB DUMB\n",
      "29 비 오는 날 듣기 좋은 노래 (Feat. Colde)\n",
      "30 Savage Love (Laxed - Siren Beat) (BTS Remix)\n",
      "31 작은 것들을 위한 시 (Boy With Luv) (Feat. Halsey)\n",
      "32 끝사랑\n",
      "33 나를 아는 사람\n",
      "34 Celebrity\n",
      "35 Stay\n",
      "36 그대라는 사치\n",
      "37 Bk Love\n",
      "38 다정히 내 이름을 부르면\n",
      "39 안녕 (Hello)\n",
      "40 미워요\n",
      "41 운전만해 (We Ride)\n",
      "42 상상더하기\n",
      "43 잊었니\n",
      "44 Timeless\n",
      "45 추적이는 여름 비가 되어\n",
      "46 사랑의 아픔 딛고\n",
      "47 Life Goes On\n",
      "48 계단말고 엘리베이터\n",
      "49 ASAP\n",
      "50 상상더하기\n"
     ]
    }
   ],
   "source": [
    "# 노래 제목 크롤링\n",
    "url = 'https://www.genie.co.kr/chart/top200?ditc=D&ymd=20210806&hh=21&rtm=Y&pg='\n",
    "header = {'User-agent': 'Mozilla/5.0 (Windows NT 6.1; WOW64; Trident/7.0; rv:11.0)} like Gecko'}\n",
    "for i in range(1,2):\n",
    "    targetsite = '{}{}'.format(url, i)\n",
    "    request = requests.get(targetsite, headers=header)\n",
    "    # print(request) # Response [200]>\n",
    "    html = request.text\n",
    "    # print(html)\n",
    "    soup = BeautifulSoup(html, 'html.parser')\n",
    "    # print(soup)\n",
    "    \n",
    "    # 노래 제목은 'class' 속성이 'title ellipsis'인 <a> 태그 내부에 있다\n",
    "    titles = soup.findAll('a', {'class':'title ellipsis'})\n",
    "    # print(titles)\n",
    "    # print(len(titles))\n",
    "    \n",
    "    i = 0\n",
    "    for title in titles:\n",
    "        i += 1\n",
    "        # print(i, title.text.strip()) # strip() => 쓸데없는 \\n 제거\n",
    "        # print(i, title.text.split('\\n')[-1].strip())\n",
    "        print(i, title.text.strip().split('\\n')[0])"
   ]
  },
  {
   "cell_type": "code",
   "execution_count": 7,
   "id": "ed37105e",
   "metadata": {
    "scrolled": true
   },
   "outputs": [
    {
     "name": "stdout",
     "output_type": "stream",
     "text": [
      "1 이무진\n",
      "2 AKMU (악뮤)\n",
      "3 MSG워너비 (M.O.M)\n",
      "4 방탄소년단\n",
      "5 10CM\n",
      "6 aespa\n",
      "7 태연 (TAEYEON)\n",
      "8 조정석\n",
      "9 방탄소년단\n",
      "10 디핵 (D-Hack) & PATEKO\n",
      "11 효린 & 다솜\n",
      "12 Ed Sheeran\n",
      "13 헤이즈 (Heize)\n",
      "14 브레이브걸스 (Brave girls)\n",
      "15 방탄소년단\n",
      "16 헤이즈 (Heize)\n",
      "17 빅마마 (Big Mama)\n",
      "18 Justin Bieber\n",
      "19 이무진\n",
      "20 브레이브걸스 (Brave girls)\n",
      "21 임영웅\n",
      "22 오마이걸 (OH MY GIRL)\n",
      "23 TWICE (트와이스)\n",
      "24 아이유 (IU)\n",
      "25 임영웅\n",
      "26 임영웅\n",
      "27 임영웅\n",
      "28 전소미\n",
      "29 에픽하이 (EPIK HIGH)\n",
      "30 Jawsh 685 & Jason Derulo & 방탄소년단\n",
      "31 방탄소년단\n",
      "32 임영웅\n",
      "33 MSG워너비 (정상동기)\n",
      "34 아이유 (IU)\n",
      "35 The Kid LAROI & Justin Bieber\n",
      "36 임영웅\n",
      "37 임영웅\n",
      "38 경서예지 & 전건호\n",
      "39 조이 (JOY)\n",
      "40 임영웅\n",
      "41 브레이브걸스 (Brave girls)\n",
      "42 라붐 (LABOUM)\n",
      "43 임영웅\n",
      "44 SG워너비\n",
      "45 장범준\n",
      "46 임영웅\n",
      "47 방탄소년단\n",
      "48 임영웅\n",
      "49 STAYC (스테이씨)\n",
      "50 MSG워너비\n"
     ]
    }
   ],
   "source": [
    "# 아티스트 크롤링\n",
    "url = 'https://www.genie.co.kr/chart/top200?ditc=D&ymd=20210806&hh=21&rtm=Y&pg='\n",
    "header = {'User-agent': 'Mozilla/5.0 (Windows NT 6.1; WOW64; Trident/7.0; rv:11.0)} like Gecko'}\n",
    "for i in range(1,2):\n",
    "    targetsite = '{}{}'.format(url, i)\n",
    "    request = requests.get(targetsite, headers=header)\n",
    "    html = request.text\n",
    "    soup = BeautifulSoup(html, 'html.parser')\n",
    "\n",
    "    # 가수 이름은 'class' 속성이 'artist ellipsis'인 <a> 태그 내부에 있다\n",
    "    # 순위가 표시되는 매 페이지 상단에 출력되는 그래프에 사용되는 가수 이름도 순위 표시에 사용되는 가수 이름과 동일하게\n",
    "    # 'class' 속성이 'artist ellipsis'인 <a> 태그 내부에 있기 때문에 가수 이름을 크롤링하면 55개씩 크롤링한다\n",
    "    artists = soup.findAll('a', {'class':'artist ellipsis'})\n",
    "    # print(artists)\n",
    "    # print(len(artists))\n",
    "    \n",
    "    i = 0\n",
    "    for artist in artists[5:]:\n",
    "        i += 1\n",
    "        # print(i, title.text.strip()) # strip() => 쓸데없는 \\n 제거\n",
    "        # print(i, title.text.split('\\n')[-1].strip())\n",
    "        print(i, artist.text.strip().split('\\n')[0])"
   ]
  },
  {
   "cell_type": "code",
   "execution_count": 8,
   "id": "596b4322",
   "metadata": {},
   "outputs": [],
   "source": [
    "# 크롤링한 데이터를 리스트에 저장한다\n",
    "genie = []\n",
    "url = 'https://www.genie.co.kr/chart/top200?ditc=D&ymd=20210806&hh=21&rtm=Y&pg='\n",
    "header = {'User-agent': 'Mozilla/5.0 (Windows NT 6.1; WOW64; Trident/7.0; rv:11.0)} like Gecko'}\n",
    "for i in range(1,5):\n",
    "    targetsite = '{}{}'.format(url, i)\n",
    "    request = requests.get(targetsite, headers=header)\n",
    "    time.sleep(1)\n",
    "    html = request.text\n",
    "    soup = BeautifulSoup(html, 'html.parser')\n",
    "\n",
    "    titles = soup.findAll('a', {'class':'title ellipsis'})\n",
    "    artists = soup.findAll('a', {'class':'artist ellipsis'})\n",
    "    \n",
    "    # genie 리스트에 노래 제목과 가수 이름을 튜플로 만들어 저장한다\n",
    "    for j in range(len(titles)):\n",
    "        genie.append(\n",
    "            {titles[j].text.strip().split('\\n')[0],artists[j].text.strip().split('\\n')[0]}\n",
    "        )\n",
    "# ===== for i in range(1,5)\n",
    "# print(genie)\n",
    "# print(len(genie))"
   ]
  },
  {
   "cell_type": "code",
   "execution_count": 10,
   "id": "305c88ec",
   "metadata": {},
   "outputs": [
    {
     "name": "stdout",
     "output_type": "stream",
     "text": [
      "2021-08-11 11:36:23.657734\n"
     ]
    },
    {
     "ename": "TypeError",
     "evalue": "'set' object is not subscriptable",
     "output_type": "error",
     "traceback": [
      "\u001b[1;31m---------------------------------------------------------------------------\u001b[0m",
      "\u001b[1;31mTypeError\u001b[0m                                 Traceback (most recent call last)",
      "\u001b[1;32m~\\AppData\\Local\\Temp/ipykernel_19304/2848549775.py\u001b[0m in \u001b[0;36m<module>\u001b[1;34m\u001b[0m\n\u001b[0;32m      1\u001b[0m \u001b[0mprint\u001b[0m\u001b[1;33m(\u001b[0m\u001b[0mdt\u001b[0m\u001b[1;33m.\u001b[0m\u001b[0mnow\u001b[0m\u001b[1;33m(\u001b[0m\u001b[1;33m)\u001b[0m\u001b[1;33m)\u001b[0m\u001b[1;33m\u001b[0m\u001b[1;33m\u001b[0m\u001b[0m\n\u001b[0;32m      2\u001b[0m \u001b[1;32mfor\u001b[0m \u001b[0mi\u001b[0m \u001b[1;32min\u001b[0m \u001b[0mrange\u001b[0m\u001b[1;33m(\u001b[0m\u001b[0mlen\u001b[0m\u001b[1;33m(\u001b[0m\u001b[0mgenie\u001b[0m\u001b[1;33m)\u001b[0m\u001b[1;33m)\u001b[0m\u001b[1;33m:\u001b[0m\u001b[1;33m\u001b[0m\u001b[1;33m\u001b[0m\u001b[0m\n\u001b[1;32m----> 3\u001b[1;33m     \u001b[0mprint\u001b[0m\u001b[1;33m(\u001b[0m\u001b[1;34m'{0:3d}위 {1} - {2}'\u001b[0m\u001b[1;33m.\u001b[0m\u001b[0mformat\u001b[0m\u001b[1;33m(\u001b[0m\u001b[0mi\u001b[0m\u001b[1;33m+\u001b[0m\u001b[1;36m1\u001b[0m\u001b[1;33m,\u001b[0m \u001b[0mgenie\u001b[0m\u001b[1;33m[\u001b[0m\u001b[0mi\u001b[0m\u001b[1;33m]\u001b[0m\u001b[1;33m[\u001b[0m\u001b[1;36m1\u001b[0m\u001b[1;33m]\u001b[0m\u001b[1;33m,\u001b[0m \u001b[0mgenie\u001b[0m\u001b[1;33m[\u001b[0m\u001b[0mi\u001b[0m\u001b[1;33m]\u001b[0m\u001b[1;33m[\u001b[0m\u001b[1;36m0\u001b[0m\u001b[1;33m]\u001b[0m\u001b[1;33m)\u001b[0m\u001b[1;33m)\u001b[0m\u001b[1;33m\u001b[0m\u001b[1;33m\u001b[0m\u001b[0m\n\u001b[0m",
      "\u001b[1;31mTypeError\u001b[0m: 'set' object is not subscriptable"
     ]
    }
   ],
   "source": [
    "print(dt.now())\n",
    "for i in range(len(genie)):\n",
    "    print('{0:3d}위 {1} - {2}'.format(i+1, genie[i][1], genie[i][0]))"
   ]
  },
  {
   "cell_type": "code",
   "execution_count": null,
   "id": "7374f31e",
   "metadata": {},
   "outputs": [],
   "source": [
    "# 크롤링한 결과를 텍스트 파일에 저장한다.\n",
    "file = open('./data/genieTOP200.txt', 'w')\n",
    "file.write('{} 현재 Genie 뮤직 실시간 TOP 100\\n'.format(dt.now()))\n",
    "for i in range(len(genie)):\n",
    "    data = '{0:3d}위 {1} - {2}'.format(i + 1, genie[i][1], genie[i][0])\n",
    "    file.write(data + '\\n')\n",
    "file.close()\n",
    "print('genieTOP200.txt 파일에 쓰기 완료')"
   ]
  },
  {
   "cell_type": "code",
   "execution_count": null,
   "id": "4ab68ae6",
   "metadata": {},
   "outputs": [],
   "source": [
    "# 텍스트 파일에 저장된 데이터를 읽어서 출력한다.\n",
    "try:\n",
    "    file = open('./data/genieTOP200.txt', 'r')\n",
    "    lines = file.readlines()\n",
    "    for line in lines:\n",
    "        print(line.strip())\n",
    "except FileNotFoundError:\n",
    "    print('genieTOP200.txt 파일이 디스크에 없습니다.')"
   ]
  },
  {
   "cell_type": "code",
   "execution_count": null,
   "id": "f49e776a",
   "metadata": {},
   "outputs": [],
   "source": []
  },
  {
   "cell_type": "code",
   "execution_count": null,
   "id": "5fa198fb",
   "metadata": {},
   "outputs": [],
   "source": []
  },
  {
   "cell_type": "code",
   "execution_count": null,
   "id": "c487b086",
   "metadata": {},
   "outputs": [],
   "source": []
  },
  {
   "cell_type": "code",
   "execution_count": null,
   "id": "cc453ae8",
   "metadata": {},
   "outputs": [],
   "source": []
  },
  {
   "cell_type": "code",
   "execution_count": null,
   "id": "bb18ae91",
   "metadata": {},
   "outputs": [],
   "source": []
  },
  {
   "cell_type": "code",
   "execution_count": null,
   "id": "c0541b9a",
   "metadata": {},
   "outputs": [],
   "source": []
  },
  {
   "cell_type": "code",
   "execution_count": null,
   "id": "ff289271",
   "metadata": {},
   "outputs": [],
   "source": []
  }
 ],
 "metadata": {
  "kernelspec": {
   "display_name": "Python 3 (ipykernel)",
   "language": "python",
   "name": "python3"
  },
  "language_info": {
   "codemirror_mode": {
    "name": "ipython",
    "version": 3
   },
   "file_extension": ".py",
   "mimetype": "text/x-python",
   "name": "python",
   "nbconvert_exporter": "python",
   "pygments_lexer": "ipython3",
   "version": "3.9.6"
  }
 },
 "nbformat": 4,
 "nbformat_minor": 5
}

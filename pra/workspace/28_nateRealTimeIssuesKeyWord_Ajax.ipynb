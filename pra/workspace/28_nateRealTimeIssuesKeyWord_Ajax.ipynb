{
 "cells": [
  {
   "cell_type": "code",
   "execution_count": 9,
   "id": "9f5e36aa",
   "metadata": {},
   "outputs": [],
   "source": [
    "import warnings\n",
    "warnings.filterwarnings(action='ignore')\n",
    "import requests\n",
    "from bs4 import BeautifulSoup\n",
    "from datetime import datetime as dt"
   ]
  },
  {
   "cell_type": "code",
   "execution_count": 10,
   "id": "6dba9896",
   "metadata": {},
   "outputs": [
    {
     "name": "stdout",
     "output_type": "stream",
     "text": [
      "<Response [200]>\n"
     ]
    }
   ],
   "source": [
    "# 실시간 검색어가 웹 페이지의 전부 혹은 일부가 포함되어있지 않고 ajax를 이용해서 실시간으로 받아오는 방식을 사용한다\n",
    "# Request Mathod가 GET이므로 request 모듈의 get() 메소드를 사용해서 실시간 검색어를 얻어온다\n",
    "targetsite = 'https://www.nate.com/js/data/jsonLiveKeywordDataV1.js?v=202108102050'\n",
    "request = requests.get(targetsite)\n",
    "print(request)"
   ]
  },
  {
   "cell_type": "code",
   "execution_count": 11,
   "id": "c219e19d",
   "metadata": {},
   "outputs": [
    {
     "name": "stdout",
     "output_type": "stream",
     "text": [
      "<class 'str'>\n",
      "[[\"1\",  \"백신 접종 예약\",  \"+\",  \"2\",  \"백신 접종 예약\"], [\"2\",  \"경찰수업\",  \"-\",  \"1\",  \"경찰수업\"], [\"3\",  \"송종호\",  \"-\",  \"1\",  \"송종호\"], [\"4\",  \"명세빈\",  \"n\",  \"0\",  \"명세빈\"], [\"5\",  \"하데스타운 개막 연기\",  \"+\",  \"1\",  \"하데스타운 개막 연기\"], [\"6\",  \"너는 나의 봄\",  \"+\",  \"1\",  \"너는 나의 봄\"], [\"7\",  \"확진 사태후 568일만\",  \"+\",  \"2\",  \"코로나 신규 확진\"], [\"8\",  \"배수진\",  \"-\",  \"3\",  \"배수진\"], [\"9\",  \"SK 바이오 사이언스\",  \"-\",  \"1\",  \"SK 바이오 사이언스\"], [\"10\",  \"희소병 앓던 30대\",  \"s\",  \"0\",  \"희소병 앓던 30대\"]]\n"
     ]
    }
   ],
   "source": [
    "issues = request.text\n",
    "print(type(issues)) # <class 'str'>, ajax로 처리되는 데이터는 무조건 문자열 형태로 얻어온다\n",
    "print(issues)"
   ]
  },
  {
   "cell_type": "code",
   "execution_count": 13,
   "id": "31908d4a",
   "metadata": {},
   "outputs": [
    {
     "name": "stdout",
     "output_type": "stream",
     "text": [
      "<class 'list'>\n",
      "[['1', '백신 접종 예약', '+', '2', '백신 접종 예약'], ['2', '경찰수업', '-', '1', '경찰수업'], ['3', '송종호', '-', '1', '송종호'], ['4', '명세빈', 'n', '0', '명세빈'], ['5', '하데스타운 개막 연기', '+', '1', '하데스타운 개막 연기'], ['6', '너는 나의 봄', '+', '1', '너는 나의 봄'], ['7', '확진 사태후 568일만', '+', '2', '코로나 신규 확진'], ['8', '배수진', '-', '3', '배수진'], ['9', 'SK 바이오 사이언스', '-', '1', 'SK 바이오 사이언스'], ['10', '희소병 앓던 30대', 's', '0', '희소병 앓던 30대']]\n"
     ]
    }
   ],
   "source": [
    "# requests 모듈의 json() 매소드로 서버에 요청해서 전달받은 데이터를 파이썬에 처리하기에 적합하도록 리스트나 딕셔너리 타입으로\n",
    "# 변환한다 => 데이터가 []로 묶여있으면 리스트로 {}로 묶여있으면 딕셔너리로 자동 변환한다\n",
    "ranks = request.json()\n",
    "print(type(ranks)) # <class 'list'>\n",
    "print(ranks)"
   ]
  },
  {
   "cell_type": "code",
   "execution_count": 17,
   "id": "e0267a96",
   "metadata": {
    "scrolled": false
   },
   "outputs": [
    {
     "name": "stdout",
     "output_type": "stream",
     "text": [
      "<class 'list'>\n",
      "['1', '백신 접종 예약', '+', '2', '백신 접종 예약']\n",
      "['2', '경찰수업', '-', '1', '경찰수업']\n",
      "['3', '송종호', '-', '1', '송종호']\n",
      "['4', '명세빈', 'n', '0', '명세빈']\n",
      "['5', '하데스타운 개막 연기', '+', '1', '하데스타운 개막 연기']\n",
      "['6', '너는 나의 봄', '+', '1', '너는 나의 봄']\n",
      "['7', '확진 사태후 568일만', '+', '2', '코로나 신규 확진']\n",
      "['8', '배수진', '-', '3', '배수진']\n",
      "['9', 'SK 바이오 사이언스', '-', '1', 'SK 바이오 사이언스']\n",
      "['10', '희소병 앓던 30대', 's', '0', '희소병 앓던 30대']\n"
     ]
    }
   ],
   "source": [
    "# json 모듈의 import 하고 loads() 메소드를 사용해서 json 형태의 문자열 데이터를 파이썬에서 처리할 수 있는 리스트나 딕셔너리 \n",
    "# 타입으로 변환한다. => 데이터가 []로 묶여있으면 리스트로 {}로 묶여있으면 딕셔너리로 자동 변환한다.\n",
    "import json\n",
    "ranks = json.loads(request.text)\n",
    "print(type(ranks)) # <class 'list'>\n",
    "for rank in ranks:\n",
    "    print(rank)"
   ]
  },
  {
   "cell_type": "code",
   "execution_count": 18,
   "id": "641b2131",
   "metadata": {},
   "outputs": [
    {
     "name": "stdout",
     "output_type": "stream",
     "text": [
      " 1위 백신 접종 예약 ↑['4', '명세빈', 'n', '0', '명세빈']\n",
      " 2위 경찰수업 ↓['4', '명세빈', 'n', '0', '명세빈']\n",
      " 3위 송종호 ↓['4', '명세빈', 'n', '0', '명세빈']\n",
      " 4위 명세빈 n\n",
      " 5위 하데스타운 개막 연기 ↑['4', '명세빈', 'n', '0', '명세빈']\n",
      " 6위 너는 나의 봄 ↑['4', '명세빈', 'n', '0', '명세빈']\n",
      " 7위 확진 사태후 568일만 ↑['4', '명세빈', 'n', '0', '명세빈']\n",
      " 8위 배수진 ↓['4', '명세빈', 'n', '0', '명세빈']\n",
      " 9위 SK 바이오 사이언스 ↓['4', '명세빈', 'n', '0', '명세빈']\n",
      "10위 희소병 앓던 30대 -\n"
     ]
    }
   ],
   "source": [
    "for i in range(len(ranks)):\n",
    "    print('{0:>2s}위 {1}'.format(ranks[i][0], ranks[i][1]), end=' ')\n",
    "    if ranks[i][2] == '+':\n",
    "        print('↑{}'.format(ranks[3]))\n",
    "    elif ranks[i][2] == '-':\n",
    "        print('↓{}'.format(ranks[3]))\n",
    "    elif ranks[i][2] == 's':\n",
    "        print('-'.format(ranks[3]))\n",
    "    else:\n",
    "        print(ranks[i][2])"
   ]
  },
  {
   "cell_type": "code",
   "execution_count": null,
   "id": "045cefda",
   "metadata": {},
   "outputs": [],
   "source": []
  }
 ],
 "metadata": {
  "kernelspec": {
   "display_name": "Python 3 (ipykernel)",
   "language": "python",
   "name": "python3"
  },
  "language_info": {
   "codemirror_mode": {
    "name": "ipython",
    "version": 3
   },
   "file_extension": ".py",
   "mimetype": "text/x-python",
   "name": "python",
   "nbconvert_exporter": "python",
   "pygments_lexer": "ipython3",
   "version": "3.9.6"
  }
 },
 "nbformat": 4,
 "nbformat_minor": 5
}

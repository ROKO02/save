{
 "cells": [
  {
   "cell_type": "code",
   "execution_count": null,
   "id": "cc8ad460",
   "metadata": {},
   "outputs": [],
   "source": [
    "선택 정렬 => 특정 위치의 데이터를 선택해서 나머지 데이터와 비교하며 정렬한다 => 앞쪽부터 정렬한다\n",
    "버블 정렬 => 인접한 2개의 데이터를 비교하며 정렬한다 => 뒤쪽부터 정렬한다\n",
    "정렬할 데이터가 n개일 경우 회전수는 n - 1번이 된다 => 데이터가 5개면 회전수는 4번이다"
   ]
  },
  {
   "cell_type": "code",
   "execution_count": 2,
   "id": "cedcc144",
   "metadata": {},
   "outputs": [
    {
     "name": "stdout",
     "output_type": "stream",
     "text": [
      "[i = 0, j = 0][i = 0, j = 1][i = 0, j = 2][i = 0, j = 3]\n",
      "[i = 1, j = 0][i = 1, j = 1][i = 1, j = 2]\n",
      "[i = 2, j = 0][i = 2, j = 1]\n",
      "[i = 3, j = 0]\n"
     ]
    }
   ],
   "source": [
    "for i in range(4):\n",
    "    for j in range(4 - i):\n",
    "        print('[i = {}, j = {}]'.format(i,j), end='')\n",
    "    print()"
   ]
  },
  {
   "cell_type": "code",
   "execution_count": 1,
   "id": "dd70093a",
   "metadata": {},
   "outputs": [
    {
     "name": "stdout",
     "output_type": "stream",
     "text": [
      "1회전 결과 : [3, 4, 8, 1, 9]\n",
      "2회전 결과 : [3, 4, 1, 8, 9]\n",
      "3회전 결과 : [3, 1, 4, 8, 9]\n",
      "4회전 결과 : [1, 3, 4, 8, 9]\n"
     ]
    }
   ],
   "source": [
    "data = [8, 3, 4, 9, 1]\n",
    "for i in range(len(data) - 1):\n",
    "    for j in range(len(data) - 1 - i):\n",
    "        # 오름차순 정렬 => 앞(j번째)의 데이터가 뒤(j+1)의 데이터보다 크면 두 기억장소의 데이터를 교환한다\n",
    "        if data[j] > data[j + 1]:\n",
    "            data[j], data[j + 1] = data[j + 1], data[j]\n",
    "        # =====if data[j] > data[j + 1]\n",
    "    # ===== for j in range(len(data) - 1 - i) => 회전 종료\n",
    "    print('{}회전 결과 : {}'.format(i + 1, data))\n",
    "# ===== for i in range(len(data))\n",
    "# print('정렬 결과 : {}'.format(data))"
   ]
  },
  {
   "cell_type": "code",
   "execution_count": 2,
   "id": "ca401c43",
   "metadata": {},
   "outputs": [
    {
     "name": "stdout",
     "output_type": "stream",
     "text": [
      "1회전 결과 : [8, 4, 9, 3, 1]\n",
      "2회전 결과 : [8, 9, 4, 3, 1]\n",
      "3회전 결과 : [9, 8, 4, 3, 1]\n",
      "4회전 결과 : [9, 8, 4, 3, 1]\n"
     ]
    }
   ],
   "source": [
    "data = [8, 3, 4, 9, 1]\n",
    "for i in range(len(data) - 1):\n",
    "    for j in range(len(data) - 1 - i):\n",
    "        # 내림차순 정렬 => 앞(j번째)의 데이터가 뒤(j+1)의 데이터보다 크면 두 기억장소의 데이터를 교환한다\n",
    "        if data[j] < data[j + 1]:\n",
    "            data[j], data[j + 1] = data[j + 1], data[j]\n",
    "        # =====if data[j] > data[j + 1]\n",
    "    # ===== for j in range(len(data) - 1 - i) => 회전 종료\n",
    "    print('{}회전 결과 : {}'.format(i + 1, data))\n",
    "# ===== for i in range(len(data))\n",
    "# print('정렬 결과 : {}'.format(data))"
   ]
  },
  {
   "cell_type": "code",
   "execution_count": 3,
   "id": "ee504507",
   "metadata": {},
   "outputs": [
    {
     "name": "stdout",
     "output_type": "stream",
     "text": [
      "1회전 결과 : [1, 3, 4, 8, 9]\n",
      "원래는 4회전 해야하지만 2회전 후 중간 종료됨\n"
     ]
    }
   ],
   "source": [
    "# 버블정렬은 데이터가 어즈덩도 정렬이 되어있는 상태라면 회전수를 다 채우지 않더라도 정렬이 완료되었나 판단해서 초기에\n",
    "# 종료할 수 있다 => early stop\n",
    "data = [9, 1, 3, 4, 8]\n",
    "for i in range(len(data) - 1):\n",
    "    # 회전(정렬) 작업이 시작되기 전에 flag 변수를 선언하고 True로 초기화시킨다\n",
    "    flag = True\n",
    "    for j in range(len(data) - 1 - i):\n",
    "        if data[j] > data[j + 1]:\n",
    "            data[j], data[j + 1] = data[j + 1], data[j]\n",
    "            # 데이터 교환 작업이 실해외면 flag 변수를 False로 수정한다\n",
    "            flag = False\n",
    "    # 한 회전이 종료되었을 때 데이터 교환 작업이 한 번도 실행되지 않았다면 현재 데이터는 모두 정렬이 되어있는 상태를 의미하므로\n",
    "    # 정렬을 중지시킨다 => 반복을 탈출한다\n",
    "    if flag:\n",
    "        print('원래는 {}회전 해야하지만 {}회전 후 중간 종료됨'. format(len(data) - 1, i + 1))\n",
    "        break\n",
    "    print('{}회전 결과 : {}'.format(i + 1, data))\n",
    "# print('정렬 결과 : {}'.format(data))"
   ]
  },
  {
   "cell_type": "code",
   "execution_count": 2,
   "id": "6f9d7a84",
   "metadata": {},
   "outputs": [
    {
     "name": "stdout",
     "output_type": "stream",
     "text": [
      "1회전 결과 : [2, 3, 9, 5, 10]\n",
      "2회전 결과 : [2, 3, 5, 9, 10]\n",
      "3회전 결과 : [2, 3, 5, 9, 10]\n",
      "4회전 결과 : [2, 3, 5, 9, 10]\n",
      "[2, 3, 5, 9, 10]\n"
     ]
    }
   ],
   "source": [
    "data = [3,2,9,10,5]\n",
    "for i in range(len(data) -1):\n",
    "    for j in range(len(data) - 1 - i):\n",
    "        if data[j] > data[j + 1]:\n",
    "            data[j], data[j+1] = data[j+1], data[j]\n",
    "    print('{}회전 결과 : {}'.format(i + 1, data))\n",
    "print(data)"
   ]
  },
  {
   "cell_type": "code",
   "execution_count": null,
   "id": "d6eb8a84",
   "metadata": {},
   "outputs": [],
   "source": []
  },
  {
   "cell_type": "code",
   "execution_count": null,
   "id": "c9cfe4c9",
   "metadata": {},
   "outputs": [],
   "source": []
  },
  {
   "cell_type": "code",
   "execution_count": null,
   "id": "a89f822a",
   "metadata": {},
   "outputs": [],
   "source": []
  }
 ],
 "metadata": {
  "kernelspec": {
   "display_name": "Python 3",
   "language": "python",
   "name": "python3"
  },
  "language_info": {
   "codemirror_mode": {
    "name": "ipython",
    "version": 3
   },
   "file_extension": ".py",
   "mimetype": "text/x-python",
   "name": "python",
   "nbconvert_exporter": "python",
   "pygments_lexer": "ipython3",
   "version": "3.6.8"
  }
 },
 "nbformat": 4,
 "nbformat_minor": 5
}

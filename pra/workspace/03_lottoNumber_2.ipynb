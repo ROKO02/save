{
 "cells": [
  {
   "cell_type": "code",
   "execution_count": null,
   "id": "2c8e9248",
   "metadata": {},
   "outputs": [],
   "source": []
  },
  {
   "cell_type": "code",
   "execution_count": 3,
   "id": "90ff155b",
   "metadata": {},
   "outputs": [
    {
     "name": "stdout",
     "output_type": "stream",
     "text": [
      "1등 번호 : {7, 8, 12, 19, 25, 26} 보너스 번호 : 15\n"
     ]
    }
   ],
   "source": [
    "import random\n",
    "# 로또 번호를 기억할 빈 set을 만든다\n",
    "lotto = set()\n",
    "#print(type(lotto))\n",
    "\n",
    "# 1등 번호\n",
    "# 무한루프 돌려주는 이유는 랜덤으로 발생시킨 숫자가 몇 번 중복될지 모르기 때문이다\n",
    "while True:\n",
    "    number = random.randrange(1,46)\n",
    "    lotto.add(number)\n",
    "    #print('{0:2d} {1}'.format(number, lotto))\n",
    "    # set에 중복되지 않은 숫자가 6개 저장되면 무한루프를 탈출시킨다\n",
    "    if len(lotto) == 6:\n",
    "        break\n",
    "# ======while True\n",
    "print('1등 번호 : {}'.format(lotto), end=' ')\n",
    "\n",
    "#보너스 번호\n",
    "while True:\n",
    "    bonus = random.randrange(1, 46)\n",
    "    #print(bonus)\n",
    "    # 보너스 번호가 로또 번호에 없을 경우 무한루프를 탈출시킨다\n",
    "    if bonus not in lotto:\n",
    "        break\n",
    "# ======while True\n",
    "print('보너스 번호 : {}'.format(bonus))"
   ]
  },
  {
   "cell_type": "code",
   "execution_count": null,
   "id": "a7122f3f",
   "metadata": {},
   "outputs": [],
   "source": []
  },
  {
   "cell_type": "code",
   "execution_count": null,
   "id": "c9e34d1e",
   "metadata": {},
   "outputs": [],
   "source": []
  },
  {
   "cell_type": "code",
   "execution_count": null,
   "id": "8604d953",
   "metadata": {},
   "outputs": [],
   "source": []
  },
  {
   "cell_type": "code",
   "execution_count": null,
   "id": "b96c1ee4",
   "metadata": {},
   "outputs": [],
   "source": []
  }
 ],
 "metadata": {
  "kernelspec": {
   "display_name": "Python 3 (ipykernel)",
   "language": "python",
   "name": "python3"
  },
  "language_info": {
   "codemirror_mode": {
    "name": "ipython",
    "version": 3
   },
   "file_extension": ".py",
   "mimetype": "text/x-python",
   "name": "python",
   "nbconvert_exporter": "python",
   "pygments_lexer": "ipython3",
   "version": "3.9.6"
  }
 },
 "nbformat": 4,
 "nbformat_minor": 5
}

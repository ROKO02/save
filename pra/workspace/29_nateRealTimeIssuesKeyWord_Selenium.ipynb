{
 "cells": [
  {
   "cell_type": "code",
   "execution_count": null,
   "id": "b248a0fd",
   "metadata": {},
   "outputs": [],
   "source": [
    "# selenium을 사용하기 위해 selenium을 설치하고 import한다\n",
    "#pip install selenium"
   ]
  },
  {
   "cell_type": "code",
   "execution_count": null,
   "id": "a4c4c6a4",
   "metadata": {},
   "outputs": [],
   "source": [
    "import warnings\n",
    "warnings.filterwarnings(action='ignore')\n",
    "# import requests\n",
    "from bs4 import BeautifulSoup\n",
    "from datetime import datetime as dt\n",
    "from selenium import webdriver # selenium를 import한다"
   ]
  },
  {
   "cell_type": "code",
   "execution_count": null,
   "id": "42a3eb15",
   "metadata": {},
   "outputs": [],
   "source": [
    "# selenium을 사용해 가상 크롬을 실행한다 사용중인 크롬 버전과 같은 버전의 크롬 드라이버를 다운받는다"
   ]
  },
  {
   "cell_type": "code",
   "execution_count": null,
   "id": "9fdae235",
   "metadata": {},
   "outputs": [],
   "source": []
  },
  {
   "cell_type": "code",
   "execution_count": null,
   "id": "7406586d",
   "metadata": {},
   "outputs": [],
   "source": []
  },
  {
   "cell_type": "code",
   "execution_count": null,
   "id": "08ce1b52",
   "metadata": {},
   "outputs": [],
   "source": []
  },
  {
   "cell_type": "code",
   "execution_count": null,
   "id": "d7ecda83",
   "metadata": {},
   "outputs": [],
   "source": []
  }
 ],
 "metadata": {
  "kernelspec": {
   "display_name": "Python 3 (ipykernel)",
   "language": "python",
   "name": "python3"
  },
  "language_info": {
   "codemirror_mode": {
    "name": "ipython",
    "version": 3
   },
   "file_extension": ".py",
   "mimetype": "text/x-python",
   "name": "python",
   "nbconvert_exporter": "python",
   "pygments_lexer": "ipython3",
   "version": "3.9.6"
  }
 },
 "nbformat": 4,
 "nbformat_minor": 5
}

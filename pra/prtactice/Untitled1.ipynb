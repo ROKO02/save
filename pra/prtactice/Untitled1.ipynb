{
 "cells": [
  {
   "cell_type": "code",
   "execution_count": null,
   "id": "f66936b1",
   "metadata": {},
   "outputs": [
    {
     "name": "stdout",
     "output_type": "stream",
     "text": [
      "==========성적 처리 프로그램==========\n",
      "숫자를 입력하여 프로그램을 실행하십시오\n",
      "1. 성적 입력 2. 총점, 평균 확인 3. 프로그램 종료\n",
      "숫자 입력 : 1\n",
      "국어 수학 영어 점수 입력 : 90 98 89\n",
      "숫자 입력 : 1\n",
      "국어 수학 영어 점수 입력 : 80 80 80\n",
      "숫자 입력 : 2\n",
      "국어 : 80\n",
      "수학 : 80\n",
      "영어 : 80\n",
      "총 합 : 240, 평균 : 80.0\n"
     ]
    }
   ],
   "source": [
    "print('=' * 10 + '성적 처리 프로그램' + '=' * 10)\n",
    "print(\"숫자를 입력하여 프로그램을 실행하십시오\")\n",
    "print('1. 성적 입력 2. 총점, 평균 확인 3. 프로그램 종료')\n",
    "while True:\n",
    "    number = int(input('숫자 입력 : '))\n",
    "    if number == 1:\n",
    "        Kor, Mat, Eng = map(int,input('국어 수학 영어 점수 입력 : '). split())\n",
    "    elif number == 2:\n",
    "        print('국어 : {}'.format(Kor))\n",
    "        print('수학 : {}'.format(Mat))\n",
    "        print('영어 : {}'.format(Eng))\n",
    "        total = Kor + Mat + Eng\n",
    "        avg = round(total / 3, 2)\n",
    "        print('총 합 : {}, 평균 : {}'.format(total, avg))\n",
    "    else:\n",
    "        print('프로그램을 종료합니다')\n",
    "        break"
   ]
  },
  {
   "cell_type": "code",
   "execution_count": null,
   "id": "08db2f6f",
   "metadata": {},
   "outputs": [],
   "source": [
    "class Grade:\n",
    "    def __init__(self):\n",
    "        "
   ]
  },
  {
   "cell_type": "code",
   "execution_count": 4,
   "id": "2295a626",
   "metadata": {},
   "outputs": [
    {
     "name": "stdout",
     "output_type": "stream",
     "text": [
      "숫자 입력 : 1\n",
      "국어 수학 영어 점수 입력 : 90 90 97\n",
      "숫자 입력 : 2\n",
      "국어 : 90\n",
      "수학 : 90\n",
      "영어 : 97\n",
      "총 합 : 277, 평균 : 92.33\n",
      "숫자 입력 : 3\n",
      "프로그램을 종료합니다\n"
     ]
    }
   ],
   "source": [
    "while True:\n",
    "    studnet = []\n",
    "    number = int(input('숫자 입력 : '))\n",
    "    if number == 1:\n",
    "        count = int(input('학생 수 입력 : '))\n",
    "        for i in range(len(number)):\n",
    "            name = input('학생 이름 입력 : ')\n",
    "            student.append(name)\n",
    "            print(student)\n",
    "            grade = list(map(int,input('국어 수학 영어 점수 입력 : '). split()))\n",
    "    elif number == 2:\n",
    "        print('국어 : {}'.format(Kor))\n",
    "        print('수학 : {}'.format(Mat))\n",
    "        print('영어 : {}'.format(Eng))\n",
    "        total = Kor + Mat + Eng\n",
    "        num = round(total / 3, 2)\n",
    "        print('총 합 : {}, 평균 : {}'.format(total, num))\n",
    "    else:\n",
    "        print('프로그램을 종료합니다')\n",
    "        break"
   ]
  },
  {
   "cell_type": "code",
   "execution_count": 5,
   "id": "f7f4da79",
   "metadata": {},
   "outputs": [
    {
     "name": "stdout",
     "output_type": "stream",
     "text": [
      "==========성적 처리 프로그램==========\n",
      "숫자를 입력하여 프로그램을 실행하십시오\n",
      "1. 성적 입력 2. 총점, 평균 확인 3. 프로그램 종료\n",
      "숫자 입력 : 1\n",
      "학생 수 입력 : 2\n",
      "학생 이름 입력 : 김땡땡\n"
     ]
    },
    {
     "ename": "AttributeError",
     "evalue": "'list' object has no attribute 'add'",
     "output_type": "error",
     "traceback": [
      "\u001b[1;31m---------------------------------------------------------------------------\u001b[0m",
      "\u001b[1;31mAttributeError\u001b[0m                            Traceback (most recent call last)",
      "\u001b[1;32m~\\AppData\\Local\\Temp/ipykernel_19380/1137617190.py\u001b[0m in \u001b[0;36m<module>\u001b[1;34m\u001b[0m\n\u001b[0;32m      9\u001b[0m         \u001b[1;32mfor\u001b[0m \u001b[0mi\u001b[0m \u001b[1;32min\u001b[0m \u001b[0mrange\u001b[0m\u001b[1;33m(\u001b[0m\u001b[0mcount\u001b[0m\u001b[1;33m)\u001b[0m\u001b[1;33m:\u001b[0m\u001b[1;33m\u001b[0m\u001b[1;33m\u001b[0m\u001b[0m\n\u001b[0;32m     10\u001b[0m             \u001b[0mname\u001b[0m \u001b[1;33m=\u001b[0m \u001b[0minput\u001b[0m\u001b[1;33m(\u001b[0m\u001b[1;34m'학생 이름 입력 : '\u001b[0m\u001b[1;33m)\u001b[0m\u001b[1;33m\u001b[0m\u001b[1;33m\u001b[0m\u001b[0m\n\u001b[1;32m---> 11\u001b[1;33m             \u001b[0mstudnet\u001b[0m\u001b[1;33m.\u001b[0m\u001b[0madd\u001b[0m\u001b[1;33m(\u001b[0m\u001b[0mname\u001b[0m\u001b[1;33m)\u001b[0m\u001b[1;33m\u001b[0m\u001b[1;33m\u001b[0m\u001b[0m\n\u001b[0m\u001b[0;32m     12\u001b[0m             \u001b[0mprint\u001b[0m\u001b[1;33m(\u001b[0m\u001b[0mstudent\u001b[0m\u001b[1;33m)\u001b[0m\u001b[1;33m\u001b[0m\u001b[1;33m\u001b[0m\u001b[0m\n",
      "\u001b[1;31mAttributeError\u001b[0m: 'list' object has no attribute 'add'"
     ]
    }
   ],
   "source": [
    "print('=' * 10 + '성적 처리 프로그램' + '=' * 10)\n",
    "print(\"숫자를 입력하여 프로그램을 실행하십시오\")\n",
    "print('1. 성적 입력 2. 총점, 평균 확인 3. 프로그램 종료')\n",
    "studnet = []\n",
    "while True:\n",
    "    number = int(input('숫자 입력 : '))\n",
    "    if number == 1:\n",
    "        count = int(input('학생 수 입력 : '))\n",
    "        for i in range(count):\n",
    "            name = input('학생 이름 입력 : ')\n",
    "            studnet.add(name)\n",
    "            print(student)"
   ]
  },
  {
   "cell_type": "code",
   "execution_count": 2,
   "id": "ae6704c6",
   "metadata": {},
   "outputs": [
    {
     "name": "stdout",
     "output_type": "stream",
     "text": [
      "고정비용, 가변비용 입력 : 1000 70\n",
      "제품 생산개수 : 10\n",
      "총 드는 비용 : 1700\n",
      "제품 판매 가격 : 150\n",
      "손익분기점 : 12\n"
     ]
    }
   ],
   "source": [
    "while True:\n",
    "    fc, vc = map(int,input('고정비용, 가변비용 입력 : ').split())\n",
    "    product_num = int(input('제품 생산개수 : '));\n",
    "    cost_total = fc + (vc * product_num)\n",
    "    print('총 드는 비용 : {}'.format(cost_total))\n",
    "    price = int(input('제품 판매 가격 : '))\n",
    "    if price >= vc:\n",
    "        bep = cost_total // price + 1\n",
    "        print('손익분기점 : {}'.format(bep))\n",
    "        break\n",
    "    else:\n",
    "        print('손익분기점이 없습니다 \\n다시 입력하세요')\n",
    "        \n",
    "    net_profits = (price * product_num) - cost_total\n",
    "    print('최대 얻을 수 있는 순이익 : {}만원'.format(net_profits))"
   ]
  },
  {
   "cell_type": "code",
   "execution_count": null,
   "id": "6749d5b2",
   "metadata": {},
   "outputs": [],
   "source": []
  }
 ],
 "metadata": {
  "kernelspec": {
   "display_name": "Python 3 (ipykernel)",
   "language": "python",
   "name": "python3"
  },
  "language_info": {
   "codemirror_mode": {
    "name": "ipython",
    "version": 3
   },
   "file_extension": ".py",
   "mimetype": "text/x-python",
   "name": "python",
   "nbconvert_exporter": "python",
   "pygments_lexer": "ipython3",
   "version": "3.9.6"
  }
 },
 "nbformat": 4,
 "nbformat_minor": 5
}

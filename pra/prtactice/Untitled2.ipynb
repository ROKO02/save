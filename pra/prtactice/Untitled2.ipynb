{
 "cells": [
  {
   "cell_type": "code",
   "execution_count": 19,
   "id": "3fed4b1a",
   "metadata": {},
   "outputs": [
    {
     "name": "stdout",
     "output_type": "stream",
     "text": [
      "50\n",
      "F\n"
     ]
    }
   ],
   "source": [
    "score = int(input())\n",
    "\n",
    "if score >= 90:\n",
    "    print('A')\n",
    "elif score >= 80:\n",
    "    print('B')\n",
    "elif score >= 70:\n",
    "    print('C')\n",
    "elif score >= 60:\n",
    "    print('D')\n",
    "else:\n",
    "    print('F')\n",
    "    "
   ]
  },
  {
   "cell_type": "code",
   "execution_count": 17,
   "id": "b2ba3b56",
   "metadata": {},
   "outputs": [
    {
     "name": "stdout",
     "output_type": "stream",
     "text": [
      "알람 설정 시간(24시 기준) : 10 10\n",
      "알람 시간 : 9시 25분\n"
     ]
    }
   ],
   "source": [
    "# 알람시계\n",
    "H, M = map(int,input('알람 설정 시간(24시 기준) : ').split())\n",
    "M = M - 45\n",
    "\n",
    "if M < 0:\n",
    "    M += 60\n",
    "    H -= 1\n",
    "if H < 0:\n",
    "    H += 24\n",
    "    \n",
    "print('알람 시간 : {}시 {}분'.format(H, M))"
   ]
  },
  {
   "cell_type": "code",
   "execution_count": null,
   "id": "0ef22d3d",
   "metadata": {},
   "outputs": [],
   "source": [
    "# 구구단\n",
    "dan = int(input('단 입력 : '))\n",
    "\n",
    "for i in range(1,10):\n",
    "    print('{} * {} = {}'.format(dan, i, dan*i))"
   ]
  },
  {
   "cell_type": "code",
   "execution_count": null,
   "id": "2c011696",
   "metadata": {},
   "outputs": [],
   "source": [
    "# 윤년\n",
    "year = int(input('년 입력 : '))\n",
    "\n",
    "if year % 4 == 0 and year % 100 != 0 or year % 400 == 0:\n",
    "    print('윤년입니다')\n",
    "else:\n",
    "    print('윤년이 아닙니다')"
   ]
  },
  {
   "cell_type": "code",
   "execution_count": null,
   "id": "3d75dec6",
   "metadata": {},
   "outputs": [],
   "source": [
    "a = int(input())\n",
    "b = list(map(int,input()))\n",
    "\n",
    "\n",
    "x = a * int(b[2])\n",
    "y = a * int(b[1])\n",
    "z = a * int(b[0])\n",
    "\n",
    "print(x)\n",
    "print(y)\n",
    "print(z)\n",
    "print(x+(y*10)+(z*100))"
   ]
  },
  {
   "cell_type": "code",
   "execution_count": null,
   "id": "8f63b706",
   "metadata": {},
   "outputs": [],
   "source": [
    "# 사분면\n",
    "x = int(input())\n",
    "y = int(input())\n",
    "\n",
    "if x > 0 and y > 0:\n",
    "    print(1)\n",
    "elif x > 0 and y < 0:\n",
    "    print(4)\n",
    "elif x < 0 and y > 0:\n",
    "    print(2)\n",
    "else:\n",
    "    print(3)"
   ]
  },
  {
   "cell_type": "code",
   "execution_count": null,
   "id": "df6f509d",
   "metadata": {},
   "outputs": [],
   "source": [
    "num = int(input())\n",
    "for i in range(1,num+1):\n",
    "    print(' '*(num-i) + '*' * i)"
   ]
  },
  {
   "cell_type": "code",
   "execution_count": null,
   "id": "de17f699",
   "metadata": {},
   "outputs": [],
   "source": []
  },
  {
   "cell_type": "code",
   "execution_count": null,
   "id": "d53f90cd",
   "metadata": {},
   "outputs": [],
   "source": []
  }
 ],
 "metadata": {
  "kernelspec": {
   "display_name": "Python 3 (ipykernel)",
   "language": "python",
   "name": "python3"
  },
  "language_info": {
   "codemirror_mode": {
    "name": "ipython",
    "version": 3
   },
   "file_extension": ".py",
   "mimetype": "text/x-python",
   "name": "python",
   "nbconvert_exporter": "python",
   "pygments_lexer": "ipython3",
   "version": "3.9.6"
  }
 },
 "nbformat": 4,
 "nbformat_minor": 5
}

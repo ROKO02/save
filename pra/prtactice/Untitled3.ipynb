{
 "cells": [
  {
   "cell_type": "code",
   "execution_count": 4,
   "id": "bfe1e8a8",
   "metadata": {
    "scrolled": true
   },
   "outputs": [
    {
     "name": "stdout",
     "output_type": "stream",
     "text": [
      "================================================================================\n",
      "물류 관리 센터에 오신 것을 환영합니다\n",
      "================================================================================\n",
      "1. 재고 확인 2. 입고 3. 출고 4. 가격 설정 5. 물품 가격 확인 6. 종료\n",
      "행동 입력 : 4\n",
      "원하는 제고와 가격 입력 : 사과 1000\n",
      "사과의 가격 1000\n",
      "================================================================================\n",
      "1. 재고 확인 2. 입고 3. 출고 4. 가격 설정 5. 물품 가격 확인 6. 종료\n",
      "행동 입력 : 4\n",
      "원하는 제고와 가격 입력 : 복숭아 2000\n",
      "복숭아의 가격 2000\n",
      "================================================================================\n",
      "1. 재고 확인 2. 입고 3. 출고 4. 가격 설정 5. 물품 가격 확인 6. 종료\n",
      "행동 입력 : 4\n",
      "원하는 제고와 가격 입력 : 오렌지 1500\n",
      "오렌지의 가격 1500\n",
      "================================================================================\n",
      "1. 재고 확인 2. 입고 3. 출고 4. 가격 설정 5. 물품 가격 확인 6. 종료\n",
      "행동 입력 : 6\n",
      "종료합니다\n",
      "================================================================================\n"
     ]
    }
   ],
   "source": [
    "items = {'사과': 20, '복숭아': 5, '오렌지': 8}\n",
    "\n",
    "apple_price = 0\n",
    "peach_price = 0\n",
    "orange_price = 0\n",
    "\n",
    "print('=' * 80)\n",
    "print('물류 관리 센터에 오신 것을 환영합니다')\n",
    "\n",
    "while True:\n",
    "    print('=' * 80)\n",
    "    print('1. 재고 확인 2. 입고 3. 출고 4. 가격 설정 5. 물품 가격 확인 6. 종료')\n",
    "    num = int(input('행동 입력 : '))\n",
    "\n",
    "    if num == 1:\n",
    "        print('재고 확인')\n",
    "        print(items)\n",
    "    elif num == 2:\n",
    "        name,number = map(str,input('원하는 제고와 수량 입력 : ').split())\n",
    "        p = int(number)\n",
    "        items[name] = items[name] + p\n",
    "        print(name + '의 재고 {}'.format(items[name]))\n",
    "    elif num == 3:\n",
    "        name,number = map(str,input('원하는 제고와 수량 입력 : ').split())\n",
    "        p = int(number)\n",
    "        items[name] = items[name] - p\n",
    "        print(name + '의 재고 {}'.format(items[name]))\n",
    "    elif num == 4:\n",
    "        name,price = map(str,input('원하는 제고와 가격 입력 : ').split())\n",
    "        m = int(price)\n",
    "        if name == '사과':\n",
    "            apple_price = m\n",
    "            print(name + '의 가격 {}'.format(apple_price))\n",
    "        elif name == '복숭아':\n",
    "            peach_price = m\n",
    "            print(name + '의 가격 {}'.format(peach_price))\n",
    "        elif name == '오렌지':\n",
    "            orange_price = m\n",
    "            print(name + '의 가격 {}'.format(orange_price))\n",
    "        else:\n",
    "            print('시스템 오류')\n",
    "            pass\n",
    "    elif num == 5:\n",
    "        print('1. 사과 : {} 2. 복숭아 : {} 3. 오렌지 : {}'.format(apple_price,peach_price,orange_price))\n",
    "    elif num == 6:\n",
    "        print('종료합니다')\n",
    "        print('=' * 80)\n",
    "        break\n",
    "    else:\n",
    "        print('시스템 오류 잘못 입력하셨습니다')\n",
    "        "
   ]
  },
  {
   "cell_type": "code",
   "execution_count": 11,
   "id": "fe02278e",
   "metadata": {},
   "outputs": [
    {
     "name": "stdout",
     "output_type": "stream",
     "text": [
      "================================================================================\n",
      "과일가게에 오신 것을 환영합니다!!!\n",
      "1. 과일 종류와 가격 보기 2. 가게 나가기\n",
      "행동 입력 : 1\n",
      "1. 사과 : 1000원 2. 복숭아 : 2000원 3. 오렌지 : 1500원\n",
      "================================================================================\n",
      "1. 과일 종류와 가격 보기 2. 가게 나가기\n",
      "행동 입력 : 2\n",
      "가게를 나갑니다\n",
      "================================================================================\n"
     ]
    }
   ],
   "source": [
    "print('=' * 80)\n",
    "print('과일가게에 오신 것을 환영합니다!!!')\n",
    "while True:\n",
    "    print('1. 과일 종류와 가격 보기 2. 가게 나가기')\n",
    "    num = int(input('행동 입력 : '))\n",
    "    if num == 1:\n",
    "        print('1. 사과 : {}원 2. 복숭아 : {}원 3. 오렌지 : {}원'.format(apple_price,peach_price,orange_price))\n",
    "        print('=' * 80)\n",
    "    elif num == 2:\n",
    "        print('가게를 나갑니다')\n",
    "        print('=' * 80)\n",
    "        break"
   ]
  },
  {
   "cell_type": "code",
   "execution_count": null,
   "id": "1d144333",
   "metadata": {},
   "outputs": [],
   "source": []
  },
  {
   "cell_type": "code",
   "execution_count": 4,
   "id": "6d29e2cb",
   "metadata": {},
   "outputs": [
    {
     "name": "stdout",
     "output_type": "stream",
     "text": [
      "현재 갖고 있는 돈은? 30000\n",
      "현재 갖고 있는 돈 : 30000\n",
      "과일가게에 오신 것을 환영합니다!!!\n",
      "1. 과일 종류와 가격 보기 2. 가게 나가기\n",
      "행동 입력 : 1\n",
      "1. 사과 1000원 2. 복숭아 2000원 3. 오렌지 1400원\n"
     ]
    }
   ],
   "source": [
    "money = int(input('현재 갖고 있는 돈은? '))\n",
    "print('현재 갖고 있는 돈 : {}'.format(money))\n",
    "print('과일가게에 오신 것을 환영합니다!!!')\n",
    "print('1. 과일 종류와 가격 보기 2. 가게 나가기')\n",
    "num = int(input('행동 입력 : '))\n",
    "if num == 1:\n",
    "    print('1. 사과 1000원 2. 복숭아 2000원 3. 오렌지 1400원')\n",
    "    \n",
    "elif num == 2:\n",
    "    print('안녕히 가십시오')"
   ]
  },
  {
   "cell_type": "code",
   "execution_count": null,
   "id": "e6f09deb",
   "metadata": {},
   "outputs": [],
   "source": []
  }
 ],
 "metadata": {
  "kernelspec": {
   "display_name": "Python 3 (ipykernel)",
   "language": "python",
   "name": "python3"
  },
  "language_info": {
   "codemirror_mode": {
    "name": "ipython",
    "version": 3
   },
   "file_extension": ".py",
   "mimetype": "text/x-python",
   "name": "python",
   "nbconvert_exporter": "python",
   "pygments_lexer": "ipython3",
   "version": "3.9.6"
  }
 },
 "nbformat": 4,
 "nbformat_minor": 5
}

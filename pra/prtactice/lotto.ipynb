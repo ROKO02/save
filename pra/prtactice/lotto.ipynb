{
 "cells": [
  {
   "cell_type": "code",
   "execution_count": 2,
   "id": "a16dffdf",
   "metadata": {},
   "outputs": [],
   "source": [
    "import random"
   ]
  },
  {
   "cell_type": "code",
   "execution_count": 17,
   "id": "333f4aa4",
   "metadata": {},
   "outputs": [
    {
     "name": "stdout",
     "output_type": "stream",
     "text": [
      "1등 번호 : 4 12 20 9 35 26 \n",
      "보너스 번호 : 30"
     ]
    }
   ],
   "source": [
    "lotto = [i for i in range(1,46)]\n",
    "\n",
    "for i in range(10000):\n",
    "    r = random.randrange(1,45)\n",
    "    temp = lotto[0]\n",
    "    lotto[0] = lotto[r]\n",
    "    lotto[r] = temp\n",
    "    \n",
    "print('1등 번호 : ', end='')\n",
    "for i in range(6):\n",
    "    print(\"{} \".format(lotto[i]), end='')\n",
    "print()\n",
    "print('보너스 번호 : {}'.format(lotto[6]), end ='')"
   ]
  },
  {
   "cell_type": "code",
   "execution_count": 11,
   "id": "95bd066f",
   "metadata": {},
   "outputs": [
    {
     "name": "stdout",
     "output_type": "stream",
     "text": [
      "1등 번호 : {36, 43, 14, 18, 20, 24}\n",
      "보너스 번호 : 6"
     ]
    }
   ],
   "source": [
    "lotto = set()\n",
    "\n",
    "while True:\n",
    "    r = random.randrange(1,45)\n",
    "    lotto.add(r)\n",
    "    if len(lotto) == 6:\n",
    "        break\n",
    "print('1등 번호 : {}'.format(lotto))\n",
    "\n",
    "while True:\n",
    "    bonus = random.randrange(1,45)\n",
    "    if bonus not in lotto:\n",
    "        break\n",
    "print('보너스 번호 : {}'.format(bonus), end='')"
   ]
  },
  {
   "cell_type": "code",
   "execution_count": null,
   "id": "0c701f19",
   "metadata": {},
   "outputs": [],
   "source": []
  }
 ],
 "metadata": {
  "kernelspec": {
   "display_name": "Python 3",
   "language": "python",
   "name": "python3"
  },
  "language_info": {
   "codemirror_mode": {
    "name": "ipython",
    "version": 3
   },
   "file_extension": ".py",
   "mimetype": "text/x-python",
   "name": "python",
   "nbconvert_exporter": "python",
   "pygments_lexer": "ipython3",
   "version": "3.6.8"
  }
 },
 "nbformat": 4,
 "nbformat_minor": 5
}

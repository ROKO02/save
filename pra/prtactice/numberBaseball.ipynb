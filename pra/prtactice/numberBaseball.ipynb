{
 "cells": [
  {
   "cell_type": "code",
   "execution_count": 2,
   "id": "fa0be943",
   "metadata": {},
   "outputs": [],
   "source": [
    "import random"
   ]
  },
  {
   "cell_type": "code",
   "execution_count": null,
   "id": "0d518b29",
   "metadata": {},
   "outputs": [
    {
     "name": "stdout",
     "output_type": "stream",
     "text": [
      "┌--------------------------------------------------------------------------------┐\n",
      "│                     숫자 야구 게임에 오신 것을 환영합니다                      │\n",
      "└--------------------------------------------------------------------------------┘\n",
      "\n",
      "세개의 숫자 입력(1~9) : 1 2 3\n",
      "스트라이크 : 0, 볼 : 2\n",
      "도전 횟수 : 1\n",
      "세개의 숫자 입력(1~9) : 4 5 6\n",
      "스트라이크 : 1, 볼 : 0\n",
      "도전 횟수 : 2\n"
     ]
    }
   ],
   "source": [
    "print('┌' + '-' * 79 + '-┐')\n",
    "# print('│                                                                                │')\n",
    "print('│                     숫자 야구 게임에 오신 것을 환영합니다                      │')           \n",
    "# print('│                                                                                │')\n",
    "print('└' + '-' * 79 + '-┘\\n')\n",
    "\n",
    "base = []\n",
    "\n",
    "try_count = 0\n",
    "strike_count = 0\n",
    "ball_count = 0\n",
    "\n",
    "while len(base) < 3:\n",
    "    r = random.randrange(1,10)\n",
    "    if not r in base:\n",
    "        base.append(r)\n",
    "# print(base)\n",
    "\n",
    "while strike_count < 3:\n",
    "    strike_count = 0\n",
    "    ball_count = 0\n",
    "    \n",
    "    num = list(map(int,input('세개의 숫자 입력(1~9) : ').split()))\n",
    "    \n",
    "    if num[0] == num[1] == num[2]:\n",
    "        print('숫자를 다시 입력하세요...\\n')\n",
    "    elif num[0] == num[1] or num[1] == num[2] or num[2] == num[0]:\n",
    "        print('숫자를 다시 입력하세요...\\n')\n",
    "    else:\n",
    "        pass\n",
    "    \n",
    "    for i in range(0,3):\n",
    "        for j in range(0,3):\n",
    "            \n",
    "            if base[i] == num[j] and i == j:\n",
    "                strike_count += 1\n",
    "            elif base[i] == num[j] and i != j:\n",
    "                ball_count += 1\n",
    "                \n",
    "    print('스트라이크 : {}, 볼 : {}'.format(strike_count, ball_count))\n",
    "    try_count += 1\n",
    "    print('도전 횟수 : {}'.format(try_count))\n",
    "\n",
    "print()\n",
    "print('축하드립니다!!!')"
   ]
  },
  {
   "cell_type": "code",
   "execution_count": null,
   "id": "fd958713",
   "metadata": {},
   "outputs": [],
   "source": []
  },
  {
   "cell_type": "code",
   "execution_count": null,
   "id": "5c50ad2c",
   "metadata": {},
   "outputs": [],
   "source": []
  },
  {
   "cell_type": "code",
   "execution_count": null,
   "id": "c4b864a5",
   "metadata": {},
   "outputs": [],
   "source": []
  },
  {
   "cell_type": "code",
   "execution_count": null,
   "id": "dd1dce5e",
   "metadata": {},
   "outputs": [],
   "source": []
  }
 ],
 "metadata": {
  "kernelspec": {
   "display_name": "Python 3",
   "language": "python",
   "name": "python3"
  },
  "language_info": {
   "codemirror_mode": {
    "name": "ipython",
    "version": 3
   },
   "file_extension": ".py",
   "mimetype": "text/x-python",
   "name": "python",
   "nbconvert_exporter": "python",
   "pygments_lexer": "ipython3",
   "version": "3.6.8"
  }
 },
 "nbformat": 4,
 "nbformat_minor": 5
}

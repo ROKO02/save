{
 "cells": [
  {
   "cell_type": "code",
   "execution_count": null,
   "id": "f40314ae",
   "metadata": {},
   "outputs": [],
   "source": [
    "# 알람시계\n",
    "H, M = map(int,input('알람 설정 시간(24시 기준) : ').split())\n",
    "M = M - 45\n",
    "\n",
    "if M < 0:\n",
    "    M += 60\n",
    "    H -= 1\n",
    "if H < 0:\n",
    "    H += 24\n",
    "    \n",
    "print('알람 시간 : {}시 {}분'.format(H, M))"
   ]
  },
  {
   "cell_type": "code",
   "execution_count": 23,
   "id": "86442a7b",
   "metadata": {},
   "outputs": [
    {
     "name": "stdout",
     "output_type": "stream",
     "text": [
      "단 입력 : 2\n",
      "2 * 1 = 2\n",
      "2 * 2 = 4\n",
      "2 * 3 = 6\n",
      "2 * 4 = 8\n",
      "2 * 5 = 10\n",
      "2 * 6 = 12\n",
      "2 * 7 = 14\n",
      "2 * 8 = 16\n",
      "2 * 9 = 18\n"
     ]
    }
   ],
   "source": [
    "# 구구단\n",
    "dan = int(input('단 입력 : '))\n",
    "\n",
    "for i in range(1,10):\n",
    "    print('{} * {} = {}'.format(dan, i, dan*i))"
   ]
  },
  {
   "cell_type": "code",
   "execution_count": 24,
   "id": "a279d2a0",
   "metadata": {},
   "outputs": [
    {
     "name": "stdout",
     "output_type": "stream",
     "text": [
      "년 입력 : 2000\n",
      "윤년입니다\n"
     ]
    }
   ],
   "source": [
    "# 윤년\n",
    "year = int(input('년 입력 : '))\n",
    "\n",
    "if year % 4 == 0 and year % 100 != 0 or year % 400 == 0:\n",
    "    print('윤년입니다')\n",
    "else:\n",
    "    print('윤년이 아닙니다')"
   ]
  },
  {
   "cell_type": "code",
   "execution_count": 10,
   "id": "9251e0aa",
   "metadata": {},
   "outputs": [
    {
     "name": "stdout",
     "output_type": "stream",
     "text": [
      "472\n",
      "385\n",
      "2360\n",
      "3776\n",
      "1416\n",
      "181720\n"
     ]
    }
   ],
   "source": [
    "a = int(input())\n",
    "b = list(map(int,input()))\n",
    "\n",
    "\n",
    "x = a * int(b[2])\n",
    "y = a * int(b[1])\n",
    "z = a * int(b[0])\n",
    "\n",
    "print(x)\n",
    "print(y)\n",
    "print(z)\n",
    "print(x+(y*10)+(z*100))"
   ]
  },
  {
   "cell_type": "code",
   "execution_count": 12,
   "id": "a5dcf529",
   "metadata": {},
   "outputs": [
    {
     "name": "stdout",
     "output_type": "stream",
     "text": [
      "9\n",
      "-13\n",
      "4\n"
     ]
    }
   ],
   "source": [
    "# 사분면\n",
    "x = int(input())\n",
    "y = int(input())\n",
    "\n",
    "if x > 0 and y > 0:\n",
    "    print(1)\n",
    "elif x > 0 and y < 0:\n",
    "    print(4)\n",
    "elif x < 0 and y > 0:\n",
    "    print(2)\n",
    "else:\n",
    "    print(3)"
   ]
  },
  {
   "cell_type": "code",
   "execution_count": null,
   "id": "bbc242ca",
   "metadata": {},
   "outputs": [],
   "source": [
    "num = int(input())\n",
    "for i in range(1,num+1):\n",
    "    print(' '*(num-i) + '*' * i)"
   ]
  },
  {
   "cell_type": "code",
   "execution_count": null,
   "id": "43847af1",
   "metadata": {},
   "outputs": [
    {
     "name": "stdout",
     "output_type": "stream",
     "text": [
      "26\n"
     ]
    }
   ],
   "source": [
    "num = int(input()) # 26\n",
    "new = num\n",
    "cycle = 0\n",
    "while True:\n",
    "    cycle += 1\n",
    "    a = num // 10 # 2\n",
    "    b = num % 10  # 6\n",
    "    c = (a+b) % 10\n",
    "    new = c+b*10\n",
    "    if new == num:\n",
    "        break\n",
    "print(cycle)"
   ]
  },
  {
   "cell_type": "code",
   "execution_count": null,
   "id": "666df828",
   "metadata": {},
   "outputs": [],
   "source": []
  }
 ],
 "metadata": {
  "kernelspec": {
   "display_name": "Python 3 (ipykernel)",
   "language": "python",
   "name": "python3"
  },
  "language_info": {
   "codemirror_mode": {
    "name": "ipython",
    "version": 3
   },
   "file_extension": ".py",
   "mimetype": "text/x-python",
   "name": "python",
   "nbconvert_exporter": "python",
   "pygments_lexer": "ipython3",
   "version": "3.9.6"
  }
 },
 "nbformat": 4,
 "nbformat_minor": 5
}

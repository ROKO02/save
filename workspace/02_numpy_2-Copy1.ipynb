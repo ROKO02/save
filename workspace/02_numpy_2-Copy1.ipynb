{
 "cells": [
  {
   "cell_type": "code",
   "execution_count": 1,
   "id": "5decb940",
   "metadata": {},
   "outputs": [],
   "source": [
    "import warnings\n",
    "warnings.filterwarnings('ignore')\n",
    "from IPython.display import Image\n",
    "import numpy as np\n",
    "\n",
    "def pprint(arr):\n",
    "    print('type : {}'.format(type(arr)))\n",
    "    print('shape : {}, dimension : {}, dtype : {}'.format(arr.shape, arr.ndim, arr.dtype))\n",
    "    print('numpy 배열에 저장된 데이터\\n', arr)"
   ]
  },
  {
   "cell_type": "markdown",
   "id": "a0c4a476",
   "metadata": {},
   "source": [
    "numpy 배열 파일 입출력"
   ]
  },
  {
   "cell_type": "code",
   "execution_count": 2,
   "id": "cc1ba162",
   "metadata": {},
   "outputs": [],
   "source": [
    "# numpy는 배열 객체를 바이너리 파일 또는 텍스트 파일에 저장하고 로딩하는 기능을 제공한다.\n",
    "# 메소드 이름    기능                                               파일포맷\n",
    "# np.save()      numpy 배열 객체 1개를 파일에 저장한다.                바이너리\n",
    "# np.savez()     numpy 배열 객체 여러개를 파일에 저장한다.            바이너리\n",
    "# np.load()      numpy 배열 저장 파일로 부터 객체를 읽어온다.         바이너리\n",
    "# np.savetxt()   numpy 배열 객체를 텍스트 파일에 저장한다.            텍스트 => txt(X), csv, tsv(0)\n",
    "# np.loadtxt()   텍스트 파일에 저장된 numpy 배열 객체를 읽어온다.   텍스트"
   ]
  },
  {
   "cell_type": "code",
   "execution_count": 9,
   "id": "d2802f3d",
   "metadata": {},
   "outputs": [
    {
     "name": "stdout",
     "output_type": "stream",
     "text": [
      "type : <class 'numpy.ndarray'>\n",
      "shape : (2, 3), dimension : 2, dtype : int32\n",
      "numpy 배열에 저장된 데이터\n",
      " [[8 8 3]\n",
      " [7 7 0]]\n",
      "type : <class 'numpy.ndarray'>\n",
      "shape : (2, 3), dimension : 2, dtype : int32\n",
      "numpy 배열에 저장된 데이터\n",
      " [[4 2 5]\n",
      " [2 2 2]]\n"
     ]
    }
   ],
   "source": [
    "np.random.seed(100)\n",
    "a = np.random.randint(0, 10, (2, 3))\n",
    "pprint(a)\n",
    "b = np.random.randint(0, 10, (2, 3))\n",
    "pprint(b)"
   ]
  },
  {
   "cell_type": "code",
   "execution_count": 22,
   "id": "4caa3660",
   "metadata": {},
   "outputs": [],
   "source": [
    "# 배열 객체 저장 - 바이너리 파일\n",
    "# np.save(), np.savez() 함수를 이용해서 배열 객체를 바이너리(2진) 형태의 파일로 저장할 수 있다\n",
    "# np.save() : 배열 1개를 저장한다\n",
    "# np.savez() : 배열 여러개를 저장한다\n",
    "\n",
    "# a 배열을 파일로 저장한다\n",
    "np.save('./output/my_array1', a)\n",
    "# a, b 배열을 파일로 저장한다\n",
    "np.savez('./output/my_array2', a, b)"
   ]
  },
  {
   "cell_type": "code",
   "execution_count": 31,
   "id": "dd00baff",
   "metadata": {},
   "outputs": [
    {
     "name": "stdout",
     "output_type": "stream",
     "text": [
      "[[8 8 3]\n",
      " [7 7 0]]\n",
      "<numpy.lib.npyio.NpzFile object at 0x0000028DEFCD7400>\n",
      "[[8 8 3]\n",
      " [7 7 0]]\n",
      "[[4 2 5]\n",
      " [2 2 2]]\n"
     ]
    }
   ],
   "source": [
    "# np.load() 함수로 npy, npz 파일로부터 배열 데이터를 읽어올 수 있다 확장명을 반드시 적어야 한다\n",
    "# npy 파일 읽기\n",
    "print(np.load('./output/my_array1.npy'))\n",
    "# npz 파일 읽기\n",
    "print(np.load('./output/my_array2.npz'))\n",
    "npzFile = np.load('./output/my_array2.npz')\n",
    "print(npzFile['arr_0'])\n",
    "print(npzFile['arr_1'])"
   ]
  },
  {
   "cell_type": "code",
   "execution_count": 33,
   "id": "fcb1539e",
   "metadata": {},
   "outputs": [
    {
     "name": "stdout",
     "output_type": "stream",
     "text": [
      "[[0.43170418 0.94002982 0.81764938 0.33611195]\n",
      " [0.17541045 0.37283205 0.00568851 0.25242635]\n",
      " [0.79566251 0.01525497 0.59884338 0.60380454]]\n"
     ]
    }
   ],
   "source": [
    "data = np.random.random((3, 4))\n",
    "print(data)"
   ]
  },
  {
   "cell_type": "code",
   "execution_count": 36,
   "id": "3555ccf8",
   "metadata": {},
   "outputs": [],
   "source": [
    "# 배열 객체 저장 - 텍스트 파일\n",
    "# np.savetxt() 함수로 배열 객체를 텍스트 파일로 저장할 수 있다 => cvx 파일, tsv 파일\n",
    "# np.savetxt('파일 이름', 데이터, delimiter='구분자')\n",
    "\n",
    "# data 배열을 텍스트 파일로 저장한다\n",
    "# np.savetxt('./output/saved.csv', data) # 구분자를 생략하면 기본값으로 csv 파일로 저장한다\n",
    "np.savetxt('./output/saved.csv', data, delimiter=',') # 확장명을 안적으면 인식을 못함, csv를 많이 애용함\n",
    "np.savetxt('./output/saved.tsv', data, delimiter='\\t')"
   ]
  },
  {
   "cell_type": "markdown",
   "id": "c0d3e57b",
   "metadata": {},
   "source": [
    "배열(행렬) 연산 - 산술 연산"
   ]
  },
  {
   "cell_type": "code",
   "execution_count": 42,
   "id": "6c0adf67",
   "metadata": {},
   "outputs": [
    {
     "name": "stdout",
     "output_type": "stream",
     "text": [
      "type : <class 'numpy.ndarray'>\n",
      "shape : (3, 3), dimension : 2, dtype : int32\n",
      "numpy 배열에 저장된 데이터\n",
      " [[1 2 3]\n",
      " [4 5 6]\n",
      " [7 8 9]]\n",
      "type : <class 'numpy.ndarray'>\n",
      "shape : (3, 3), dimension : 2, dtype : int32\n",
      "numpy 배열에 저장된 데이터\n",
      " [[9 8 7]\n",
      " [6 5 4]\n",
      " [3 2 1]]\n"
     ]
    }
   ],
   "source": [
    "a = np.arange(1, 10).reshape(3, 3)\n",
    "pprint(a)\n",
    "b = np.arange(9, 0, -1).reshape(3, 3)\n",
    "pprint(b)"
   ]
  },
  {
   "cell_type": "code",
   "execution_count": 44,
   "id": "7bb6c452",
   "metadata": {},
   "outputs": [
    {
     "name": "stdout",
     "output_type": "stream",
     "text": [
      "type : <class 'numpy.ndarray'>\n",
      "shape : (3, 3), dimension : 2, dtype : int32\n",
      "numpy 배열에 저장된 데이터\n",
      " [[10 10 10]\n",
      " [10 10 10]\n",
      " [10 10 10]]\n",
      "type : <class 'numpy.ndarray'>\n",
      "shape : (3, 3), dimension : 2, dtype : int32\n",
      "numpy 배열에 저장된 데이터\n",
      " [[10 10 10]\n",
      " [10 10 10]\n",
      " [10 10 10]]\n"
     ]
    }
   ],
   "source": [
    "# 덧셈 : +, np.add()\n",
    "pprint(a + b)\n",
    "pprint(np.add(a,b))"
   ]
  },
  {
   "cell_type": "code",
   "execution_count": 46,
   "id": "5c6e637c",
   "metadata": {},
   "outputs": [
    {
     "name": "stdout",
     "output_type": "stream",
     "text": [
      "type : <class 'numpy.ndarray'>\n",
      "shape : (3, 3), dimension : 2, dtype : int32\n",
      "numpy 배열에 저장된 데이터\n",
      " [[-8 -6 -4]\n",
      " [-2  0  2]\n",
      " [ 4  6  8]]\n",
      "type : <class 'numpy.ndarray'>\n",
      "shape : (3, 3), dimension : 2, dtype : int32\n",
      "numpy 배열에 저장된 데이터\n",
      " [[-8 -6 -4]\n",
      " [-2  0  2]\n",
      " [ 4  6  8]]\n"
     ]
    }
   ],
   "source": [
    "# 뺄셈 : -, np.subtract\n",
    "pprint(a - b)\n",
    "pprint(np.subtract(a,b))"
   ]
  },
  {
   "cell_type": "code",
   "execution_count": 47,
   "id": "ab0bb77b",
   "metadata": {},
   "outputs": [
    {
     "name": "stdout",
     "output_type": "stream",
     "text": [
      "type : <class 'numpy.ndarray'>\n",
      "shape : (3, 3), dimension : 2, dtype : int32\n",
      "numpy 배열에 저장된 데이터\n",
      " [[ 9 16 21]\n",
      " [24 25 24]\n",
      " [21 16  9]]\n",
      "type : <class 'numpy.ndarray'>\n",
      "shape : (3, 3), dimension : 2, dtype : int32\n",
      "numpy 배열에 저장된 데이터\n",
      " [[ 9 16 21]\n",
      " [24 25 24]\n",
      " [21 16  9]]\n"
     ]
    }
   ],
   "source": [
    "# 곱셈 : *, np.multiply\n",
    "pprint(a * b)\n",
    "pprint(np.multiply(a,b))"
   ]
  },
  {
   "cell_type": "code",
   "execution_count": 49,
   "id": "3fb96242",
   "metadata": {},
   "outputs": [
    {
     "name": "stdout",
     "output_type": "stream",
     "text": [
      "type : <class 'numpy.ndarray'>\n",
      "shape : (3, 3), dimension : 2, dtype : int32\n",
      "numpy 배열에 저장된 데이터\n",
      " [[0 0 0]\n",
      " [0 1 1]\n",
      " [2 4 9]]\n",
      "type : <class 'numpy.ndarray'>\n",
      "shape : (3, 3), dimension : 2, dtype : float64\n",
      "numpy 배열에 저장된 데이터\n",
      " [[0.11111111 0.25       0.42857143]\n",
      " [0.66666667 1.         1.5       ]\n",
      " [2.33333333 4.         9.        ]]\n"
     ]
    }
   ],
   "source": [
    "# 나눗셈 : / or //, np.divide\n",
    "pprint(a // b)\n",
    "pprint(np.divide(a,b))"
   ]
  },
  {
   "cell_type": "code",
   "execution_count": 50,
   "id": "2189ad21",
   "metadata": {},
   "outputs": [
    {
     "name": "stdout",
     "output_type": "stream",
     "text": [
      "[[2.71828183e+00 7.38905610e+00 2.00855369e+01]\n",
      " [5.45981500e+01 1.48413159e+02 4.03428793e+02]\n",
      " [1.09663316e+03 2.98095799e+03 8.10308393e+03]]\n"
     ]
    }
   ],
   "source": [
    "print(np.exp(a)) # 지수"
   ]
  },
  {
   "cell_type": "code",
   "execution_count": 51,
   "id": "e77b26c2",
   "metadata": {},
   "outputs": [
    {
     "name": "stdout",
     "output_type": "stream",
     "text": [
      "[[1.         1.41421356 1.73205081]\n",
      " [2.         2.23606798 2.44948974]\n",
      " [2.64575131 2.82842712 3.        ]]\n"
     ]
    }
   ],
   "source": [
    "print(np.sqrt(a)) # 제곱근"
   ]
  },
  {
   "cell_type": "code",
   "execution_count": 54,
   "id": "5eacfe91",
   "metadata": {},
   "outputs": [
    {
     "name": "stdout",
     "output_type": "stream",
     "text": [
      "-0.9880316240928618\n",
      "0.15425144988758405\n",
      "-6.405331196646276\n"
     ]
    }
   ],
   "source": [
    "# 삼각함수\n",
    "print(np.sin(a))\n",
    "print(np.cos(a))\n",
    "print(np.tan(a))"
   ]
  },
  {
   "cell_type": "code",
   "execution_count": 55,
   "id": "7c6203be",
   "metadata": {},
   "outputs": [
    {
     "name": "stdout",
     "output_type": "stream",
     "text": [
      "[[0.         0.69314718 1.09861229]\n",
      " [1.38629436 1.60943791 1.79175947]\n",
      " [1.94591015 2.07944154 2.19722458]]\n"
     ]
    }
   ],
   "source": [
    "print(np.log(a)) # 로그"
   ]
  },
  {
   "cell_type": "code",
   "execution_count": 63,
   "id": "f6195268",
   "metadata": {},
   "outputs": [
    {
     "name": "stdout",
     "output_type": "stream",
     "text": [
      "type : <class 'numpy.ndarray'>\n",
      "shape : (3, 3), dimension : 2, dtype : int32\n",
      "numpy 배열에 저장된 데이터\n",
      " [[ 30  24  18]\n",
      " [ 84  69  54]\n",
      " [138 114  90]]\n"
     ]
    },
    {
     "data": {
      "image/png": "[encoded data removed]",
      "text/plain": [
       "<IPython.core.display.Image object>"
      ]
     },
     "execution_count": 63,
     "metadata": {
      "image/png": {
       "width": "1200"
      }
     },
     "output_type": "execute_result"
    }
   ],
   "source": [
    "pprint(np.dot(a,  b)) # 행렬의 내적\n",
    "Image('./numpyImage/dot.png', width='1200')"
   ]
  },
  {
   "cell_type": "code",
   "execution_count": 59,
   "id": "be6a621a",
   "metadata": {},
   "outputs": [
    {
     "name": "stdout",
     "output_type": "stream",
     "text": [
      "[[False False False]\n",
      " [False  True False]\n",
      " [False False False]]\n"
     ]
    }
   ],
   "source": [
    "# 배열 요소별 비교 : >, >=, <, <=, == , !=\n",
    "print(a == b)"
   ]
  },
  {
   "cell_type": "code",
   "execution_count": 60,
   "id": "8f9c763e",
   "metadata": {},
   "outputs": [
    {
     "name": "stdout",
     "output_type": "stream",
     "text": [
      "False\n"
     ]
    }
   ],
   "source": [
    "# np.array_equal() 함수를 사용하면 배열 전체를 비교할 수 있다\n",
    "print(np.array_equal(a, b))"
   ]
  },
  {
   "cell_type": "markdown",
   "id": "7c475343",
   "metadata": {},
   "source": [
    "집계 함수"
   ]
  },
  {
   "cell_type": "code",
   "execution_count": null,
   "id": "d0f0d3b2",
   "metadata": {},
   "outputs": [],
   "source": [
    "# 넘파이의 거의 모든 집계 함수는 axis를 기준으로 계산한다\n",
    "# 집계 함수에 axis를 지정하지 않으면 axis=None이 기본값으로 사용된다\n",
    "# axis=None, axis=0, axis=1과 같이 지정한다"
   ]
  },
  {
   "cell_type": "code",
   "execution_count": 62,
   "id": "5602b508",
   "metadata": {},
   "outputs": [
    {
     "name": "stdout",
     "output_type": "stream",
     "text": [
      "type : <class 'numpy.ndarray'>\n",
      "shape : (3, 3), dimension : 2, dtype : int32\n",
      "numpy 배열에 저장된 데이터\n",
      " [[1 2 3]\n",
      " [4 5 6]\n",
      " [7 8 9]]\n"
     ]
    }
   ],
   "source": [
    "a = np.arange(1, 10).reshape(3, 3)\n",
    "pprint(a)"
   ]
  },
  {
   "cell_type": "markdown",
   "id": "ded4fd25",
   "metadata": {},
   "source": [
    "합계 : 배열객체.sum(axis), np.sum(배열객체, axis)"
   ]
  },
  {
   "cell_type": "code",
   "execution_count": null,
   "id": "e3bdb1b0",
   "metadata": {},
   "outputs": [],
   "source": [
    "# axis=None\n",
    "# axis=None은 전체 배열을 하나의 배열로 간주하고 집계 함수의 범위를 전체 배열로 정의한다 생략시 기본값으로 사용된다\n",
    "Image('./numpyImage/numpyImage02.jpg', width='200')"
   ]
  },
  {
   "cell_type": "code",
   "execution_count": 68,
   "id": "f3322992",
   "metadata": {},
   "outputs": [
    {
     "name": "stdout",
     "output_type": "stream",
     "text": [
      "45\n",
      "45\n",
      "45\n",
      "45\n"
     ]
    }
   ],
   "source": [
    "print(a.sum())\n",
    "print(a.sum(axis=None))\n",
    "print(np.sum(a))\n",
    "print(np.sum(a, axis=None))"
   ]
  },
  {
   "cell_type": "code",
   "execution_count": null,
   "id": "db50644c",
   "metadata": {},
   "outputs": [],
   "source": [
    "# axis=0\n",
    "# axis=0은 행을 기준으로 각 행의 동일한 인덱스 요소를 그룹으로 연산한다 => 각 열의 합계\n",
    "Image('./numpyImage/numpyImage03.jpg', width='200')"
   ]
  },
  {
   "cell_type": "code",
   "execution_count": 70,
   "id": "6a27da20",
   "metadata": {},
   "outputs": [
    {
     "name": "stdout",
     "output_type": "stream",
     "text": [
      "[12 15 18]\n",
      "[12 15 18]\n"
     ]
    }
   ],
   "source": [
    "print(a.sum(axis=0))\n",
    "print(np.sum(a, axis=0))"
   ]
  },
  {
   "cell_type": "code",
   "execution_count": null,
   "id": "bcf643db",
   "metadata": {},
   "outputs": [],
   "source": [
    "# axis=0\n",
    "# axis=1은 열을 기준으로 각 행의 동일한 인덱스 요소를 그룹으로 연산한다 => 각 행의 합계\n",
    "Image('./numpyImage/numpyImage04.jpg', width='200')"
   ]
  },
  {
   "cell_type": "code",
   "execution_count": 72,
   "id": "b1607ee9",
   "metadata": {},
   "outputs": [
    {
     "name": "stdout",
     "output_type": "stream",
     "text": [
      "[ 6 15 24]\n",
      "[ 6 15 24]\n"
     ]
    }
   ],
   "source": [
    "print(a.sum(axis=1))\n",
    "print(np.sum(a, axis=1))"
   ]
  },
  {
   "cell_type": "markdown",
   "id": "80ffe162",
   "metadata": {},
   "source": [
    "최대값 : 배열객체.max(axis), np.max(배열객체, axis)\n",
    "최소값 : 배열객체.min(axis), np.min(배열객체, axis)"
   ]
  },
  {
   "cell_type": "code",
   "execution_count": 74,
   "id": "44f078e2",
   "metadata": {},
   "outputs": [
    {
     "name": "stdout",
     "output_type": "stream",
     "text": [
      "9\n",
      "9\n",
      "1\n",
      "1\n"
     ]
    }
   ],
   "source": [
    "print(a.max())\n",
    "print(np.max(a))\n",
    "print(a.min())\n",
    "print(np.min(a))"
   ]
  },
  {
   "cell_type": "code",
   "execution_count": 75,
   "id": "5cc251d5",
   "metadata": {},
   "outputs": [
    {
     "name": "stdout",
     "output_type": "stream",
     "text": [
      "[7 8 9]\n",
      "[7 8 9]\n",
      "[1 2 3]\n",
      "[1 2 3]\n"
     ]
    }
   ],
   "source": [
    "print(a.max(axis=0))\n",
    "print(np.max(a, axis=0))\n",
    "print(a.min(axis=0))\n",
    "print(np.min(a, axis=0))"
   ]
  },
  {
   "cell_type": "code",
   "execution_count": 76,
   "id": "6ae923a5",
   "metadata": {},
   "outputs": [
    {
     "name": "stdout",
     "output_type": "stream",
     "text": [
      "[3 6 9]\n",
      "[3 6 9]\n",
      "[1 4 7]\n",
      "[1 4 7]\n"
     ]
    }
   ],
   "source": [
    "print(a.max(axis=1))\n",
    "print(np.max(a, axis=1))\n",
    "print(a.min(axis=1))\n",
    "print(np.min(a, axis=1))"
   ]
  },
  {
   "cell_type": "markdown",
   "id": "93babb42",
   "metadata": {},
   "source": [
    "누적함계 : 배열객체.cumsum(axis), np.cumsum(배열객체, axis)"
   ]
  },
  {
   "cell_type": "code",
   "execution_count": 78,
   "id": "6dae38fb",
   "metadata": {},
   "outputs": [
    {
     "name": "stdout",
     "output_type": "stream",
     "text": [
      "[ 1  3  6 10 15 21 28 36 45]\n",
      "[ 1  3  6 10 15 21 28 36 45]\n"
     ]
    }
   ],
   "source": [
    "print(a.cumsum())\n",
    "print(np.cumsum(a))"
   ]
  },
  {
   "cell_type": "code",
   "execution_count": 79,
   "id": "9f77c1fe",
   "metadata": {},
   "outputs": [
    {
     "name": "stdout",
     "output_type": "stream",
     "text": [
      "[[ 1  2  3]\n",
      " [ 5  7  9]\n",
      " [12 15 18]]\n",
      "[[ 1  2  3]\n",
      " [ 5  7  9]\n",
      " [12 15 18]]\n"
     ]
    }
   ],
   "source": [
    "print(a.cumsum(axis=0))\n",
    "print(np.cumsum(a, axis=0))"
   ]
  },
  {
   "cell_type": "code",
   "execution_count": 80,
   "id": "79d0a5c4",
   "metadata": {},
   "outputs": [
    {
     "name": "stdout",
     "output_type": "stream",
     "text": [
      "[[ 1  3  6]\n",
      " [ 4  9 15]\n",
      " [ 7 15 24]]\n",
      "[[ 1  3  6]\n",
      " [ 4  9 15]\n",
      " [ 7 15 24]]\n"
     ]
    }
   ],
   "source": [
    "print(a.cumsum(axis=1))\n",
    "print(np.cumsum(a, axis=1))"
   ]
  },
  {
   "cell_type": "markdown",
   "id": "f72fc157",
   "metadata": {},
   "source": [
    "평균 : 배열객체.mean(axis), np.mean(배열객체, axis)"
   ]
  },
  {
   "cell_type": "code",
   "execution_count": 82,
   "id": "9180345d",
   "metadata": {},
   "outputs": [
    {
     "name": "stdout",
     "output_type": "stream",
     "text": [
      "5.0\n",
      "5.0\n"
     ]
    }
   ],
   "source": [
    "print(a.mean())\n",
    "print(np.mean(a))"
   ]
  },
  {
   "cell_type": "code",
   "execution_count": 85,
   "id": "b3f757a6",
   "metadata": {},
   "outputs": [
    {
     "name": "stdout",
     "output_type": "stream",
     "text": [
      "[4. 5. 6.]\n",
      "[4. 5. 6.]\n"
     ]
    }
   ],
   "source": [
    "print(a.mean(axis=0))\n",
    "print(np.mean(a, axis=0))"
   ]
  },
  {
   "cell_type": "code",
   "execution_count": 86,
   "id": "36324cc5",
   "metadata": {},
   "outputs": [
    {
     "name": "stdout",
     "output_type": "stream",
     "text": [
      "[2. 5. 8.]\n",
      "[2. 5. 8.]\n"
     ]
    }
   ],
   "source": [
    "print(a.mean(axis=1))\n",
    "print(np.mean(a, axis=1))"
   ]
  },
  {
   "cell_type": "markdown",
   "id": "31ef3849",
   "metadata": {},
   "source": [
    "중위수 : np.medium(배열객체, axis)"
   ]
  },
  {
   "cell_type": "code",
   "execution_count": null,
   "id": "893bcad5",
   "metadata": {},
   "outputs": [],
   "source": []
  },
  {
   "cell_type": "code",
   "execution_count": null,
   "id": "f7daaf7d",
   "metadata": {},
   "outputs": [],
   "source": []
  },
  {
   "cell_type": "code",
   "execution_count": null,
   "id": "a35e05dd",
   "metadata": {},
   "outputs": [],
   "source": []
  },
  {
   "cell_type": "code",
   "execution_count": null,
   "id": "bb60b53d",
   "metadata": {},
   "outputs": [],
   "source": []
  },
  {
   "cell_type": "code",
   "execution_count": null,
   "id": "6c89d0f8",
   "metadata": {},
   "outputs": [],
   "source": []
  },
  {
   "cell_type": "code",
   "execution_count": null,
   "id": "1a5c330f",
   "metadata": {},
   "outputs": [],
   "source": []
  },
  {
   "cell_type": "code",
   "execution_count": null,
   "id": "25d64c40",
   "metadata": {},
   "outputs": [],
   "source": []
  },
  {
   "cell_type": "code",
   "execution_count": null,
   "id": "da0bb945",
   "metadata": {},
   "outputs": [],
   "source": []
  },
  {
   "cell_type": "code",
   "execution_count": null,
   "id": "d6f1f480",
   "metadata": {},
   "outputs": [],
   "source": []
  }
 ],
 "metadata": {
  "kernelspec": {
   "display_name": "Python 3",
   "language": "python",
   "name": "python3"
  },
  "language_info": {
   "codemirror_mode": {
    "name": "ipython",
    "version": 3
   },
   "file_extension": ".py",
   "mimetype": "text/x-python",
   "name": "python",
   "nbconvert_exporter": "python",
   "pygments_lexer": "ipython3",
   "version": "3.6.8"
  }
 },
 "nbformat": 4,
 "nbformat_minor": 5
}

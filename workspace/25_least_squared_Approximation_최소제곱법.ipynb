{
 "cells": [
  {
   "cell_type": "code",
   "execution_count": 19,
   "id": "60e15d9a",
   "metadata": {},
   "outputs": [],
   "source": [
    "import warnings                                      \n",
    "warnings.filterwarnings('ignore')\n",
    "import numpy as np\n",
    "import pandas as pd\n",
    "import matplotlib.pyplot as plt\n",
    "plt.rcParams['font.family'] = 'NanumGothic'\n",
    "plt.rcParams['font.size'] = 15\n",
    "import matplotlib as mpl\n",
    "mpl.rcParams['axes.unicode_minus'] =False\n",
    "import seaborn as sns"
   ]
  },
  {
   "cell_type": "code",
   "execution_count": 20,
   "id": "2695ab73",
   "metadata": {},
   "outputs": [],
   "source": [
    "# 최소 제곱법으로 기울기와 y 절편을 계산할 데이터를 만든다\n",
    "x = [ 2,  4,   6,   8] # 공부한 시간\n",
    "y = [81, 93, 91, 97] # 시험 점수"
   ]
  },
  {
   "cell_type": "code",
   "execution_count": 21,
   "id": "dc18dd78",
   "metadata": {},
   "outputs": [
    {
     "data": {
      "text/html": [
       "<div>\n",
       "<style scoped>\n",
       "    .dataframe tbody tr th:only-of-type {\n",
       "        vertical-align: middle;\n",
       "    }\n",
       "\n",
       "    .dataframe tbody tr th {\n",
       "        vertical-align: top;\n",
       "    }\n",
       "\n",
       "    .dataframe thead th {\n",
       "        text-align: right;\n",
       "    }\n",
       "</style>\n",
       "<table border=\"1\" class=\"dataframe\">\n",
       "  <thead>\n",
       "    <tr style=\"text-align: right;\">\n",
       "      <th></th>\n",
       "      <th>x</th>\n",
       "      <th>y</th>\n",
       "    </tr>\n",
       "  </thead>\n",
       "  <tbody>\n",
       "    <tr>\n",
       "      <th>0</th>\n",
       "      <td>2</td>\n",
       "      <td>81</td>\n",
       "    </tr>\n",
       "    <tr>\n",
       "      <th>1</th>\n",
       "      <td>4</td>\n",
       "      <td>93</td>\n",
       "    </tr>\n",
       "    <tr>\n",
       "      <th>2</th>\n",
       "      <td>6</td>\n",
       "      <td>91</td>\n",
       "    </tr>\n",
       "    <tr>\n",
       "      <th>3</th>\n",
       "      <td>8</td>\n",
       "      <td>97</td>\n",
       "    </tr>\n",
       "  </tbody>\n",
       "</table>\n",
       "</div>"
      ],
      "text/plain": [
       "   x   y\n",
       "0  2  81\n",
       "1  4  93\n",
       "2  6  91\n",
       "3  8  97"
      ]
     },
     "execution_count": 21,
     "metadata": {},
     "output_type": "execute_result"
    }
   ],
   "source": [
    "# 공부한 시간과 시험 점수 데이터를 판다스 데이터프레임으로 만든다\n",
    "# 빈 데이터프레임을 만든다\n",
    "df = pd.DataFrame(columns=['x', 'y'])\n",
    "# 빈 데이터프레임에 데이터를 넣어줄 때는 loc[index]를 사용해서 리스트 형태의 데이터를 넣어주면 된다\n",
    "df.loc[0] = [2, 81]\n",
    "df.loc[1] = [4, 93]\n",
    "df.loc[2] = [6, 91]\n",
    "df.loc[3] = [8, 97]\n",
    "df"
   ]
  },
  {
   "cell_type": "code",
   "execution_count": 25,
   "id": "7f27f90f",
   "metadata": {},
   "outputs": [
    {
     "data": {
      "image/png": "[encoded data removed]",
      "text/plain": [
       "<Figure size 864x576 with 1 Axes>"
      ]
     },
     "metadata": {
      "needs_background": "light"
     },
     "output_type": "display_data"
    }
   ],
   "source": [
    "# 공부한 시간과 시험 점수 시각화\n",
    "plt.figure(figsize=[12, 8])\n",
    "sns.scatterplot(data=df, x='x',  y='y', s=100)\n",
    "plt.show()"
   ]
  },
  {
   "cell_type": "markdown",
   "id": "dba037a2",
   "metadata": {},
   "source": [
    "기울기 공식 => ∑(x - x의 평균)(y - y의 평균) / ∑(x - x의 평균)(y - y의 평균)"
   ]
  },
  {
   "cell_type": "code",
   "execution_count": 26,
   "id": "b6f0d666",
   "metadata": {},
   "outputs": [
    {
     "name": "stdout",
     "output_type": "stream",
     "text": [
      "공부한 시간의 평균 : 5.0, 시험 점수의 평균 : 90.5\n"
     ]
    }
   ],
   "source": [
    "# mean() : 넘파이에서 인수로 지정된 데이터의 평균을 계싼하는 함수\n",
    "mean_x = np.mean(x) # 공부 시간의 평균\n",
    "mean_y = np.mean(y) # 시험 점수의 평균 => 실제값\n",
    "print('공부한 시간의 평균 : {}, 시험 점수의 평균 : {}'.format(mean_x, mean_y))"
   ]
  },
  {
   "cell_type": "code",
   "execution_count": 29,
   "id": "30466412",
   "metadata": {},
   "outputs": [
    {
     "name": "stdout",
     "output_type": "stream",
     "text": [
      "46.0\n"
     ]
    }
   ],
   "source": [
    "# 기울기 공식의 분자를 계산하는 함수\n",
    "def top(x, mean_x, y, mean_y):\n",
    "    total = 0.0\n",
    "    for i in range(len(x)):\n",
    "        total += (x[i] - mean_x) * (y[i] - mean_y)\n",
    "    return total\n",
    "\n",
    "dividend = top(x, mean_x, y, mean_y)\n",
    "print(dividend)"
   ]
  },
  {
   "cell_type": "code",
   "execution_count": 31,
   "id": "3dc92a2c",
   "metadata": {},
   "outputs": [
    {
     "name": "stdout",
     "output_type": "stream",
     "text": [
      "20.0\n"
     ]
    }
   ],
   "source": [
    "# 기울기 공식의 분모를 계산하는 함수\n",
    "def bottom(x, mean_x):\n",
    "    total = 0.0\n",
    "    for i in range(len(x)):\n",
    "        total += (x[i] - mean_x) ** 2\n",
    "    return total\n",
    "\n",
    "divisor = bottom(x, mean_x)\n",
    "print(divisor)"
   ]
  },
  {
   "cell_type": "code",
   "execution_count": 32,
   "id": "8aceb814",
   "metadata": {},
   "outputs": [
    {
     "name": "stdout",
     "output_type": "stream",
     "text": [
      "20.0\n"
     ]
    }
   ],
   "source": [
    "divisor = sum([(i - mean_x) ** 2 for i in x]) \n",
    "print(divisor)"
   ]
  },
  {
   "cell_type": "markdown",
   "id": "9d73d811",
   "metadata": {},
   "source": [
    "기울기와 y절편을 계산한다  \n",
    "y절편 공식 => y의 평균 - (x의 평균 * 기울기)"
   ]
  },
  {
   "cell_type": "code",
   "execution_count": 33,
   "id": "e32a1a7a",
   "metadata": {},
   "outputs": [
    {
     "name": "stdout",
     "output_type": "stream",
     "text": [
      "기울기 : 2.3, y절편 : 79.0\n"
     ]
    }
   ],
   "source": [
    "a = dividend / divisor # 기울기\n",
    "b = mean_y - (mean_x * a) # y 절편\n",
    "print('기울기 : {}, y절편 : {}'.format(a, b))"
   ]
  },
  {
   "cell_type": "code",
   "execution_count": null,
   "id": "2780f147",
   "metadata": {},
   "outputs": [],
   "source": []
  },
  {
   "cell_type": "code",
   "execution_count": null,
   "id": "969bb261",
   "metadata": {},
   "outputs": [],
   "source": []
  }
 ],
 "metadata": {
  "kernelspec": {
   "display_name": "Python 3",
   "language": "python",
   "name": "python3"
  },
  "language_info": {
   "codemirror_mode": {
    "name": "ipython",
    "version": 3
   },
   "file_extension": ".py",
   "mimetype": "text/x-python",
   "name": "python",
   "nbconvert_exporter": "python",
   "pygments_lexer": "ipython3",
   "version": "3.6.8"
  }
 },
 "nbformat": 4,
 "nbformat_minor": 5
}
